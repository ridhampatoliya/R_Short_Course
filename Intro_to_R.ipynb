{
  "nbformat": 4,
  "nbformat_minor": 0,
  "metadata": {
    "colab": {
      "name": "Intro_to_R.ipynb",
      "provenance": [],
      "collapsed_sections": [],
      "include_colab_link": true
    },
    "kernelspec": {
      "name": "ir",
      "display_name": "R"
    },
    "language_info": {
      "name": "R"
    }
  },
  "cells": [
    {
      "cell_type": "markdown",
      "metadata": {
        "id": "view-in-github",
        "colab_type": "text"
      },
      "source": [
        "<a href=\"https://colab.research.google.com/github/ridhampatoliya/R_Short_Course/blob/main/Intro_to_R.ipynb\" target=\"_parent\"><img src=\"https://colab.research.google.com/assets/colab-badge.svg\" alt=\"Open In Colab\"/></a>"
      ]
    },
    {
      "cell_type": "markdown",
      "metadata": {
        "id": "oY5FGhz96HVf"
      },
      "source": [
        "## <span style=\"color:blue\">Introduction to R</span>\n",
        "\n",
        "\n",
        "\n"
      ]
    },
    {
      "cell_type": "markdown",
      "metadata": {
        "id": "eT3l4wHp_ET_"
      },
      "source": [
        "## R as a calculator\n",
        "\n",
        "Addition `+`   \n",
        "Substraction `-`    \n",
        "Multiplication `*`    \n",
        "Division `/`    \n",
        "Exponentiation `^`    \n",
        "Modulo `%%`   "
      ]
    },
    {
      "cell_type": "code",
      "metadata": {
        "id": "EEiq6fDP10zC",
        "colab": {
          "base_uri": "https://localhost:8080/",
          "height": 34
        },
        "outputId": "ee30565f-87bd-495d-ca5e-8d9c5ee27718"
      },
      "source": [
        "12 + 3"
      ],
      "execution_count": null,
      "outputs": [
        {
          "output_type": "display_data",
          "data": {
            "text/plain": [
              "[1] 15"
            ],
            "text/latex": "15",
            "text/markdown": "15",
            "text/html": [
              "15"
            ]
          },
          "metadata": {}
        }
      ]
    },
    {
      "cell_type": "code",
      "metadata": {
        "colab": {
          "base_uri": "https://localhost:8080/",
          "height": 34
        },
        "id": "__FsL2e9AZVD",
        "outputId": "14258a91-75f6-459d-ae89-3ba02831ce6c"
      },
      "source": [
        "11 - 7"
      ],
      "execution_count": null,
      "outputs": [
        {
          "output_type": "display_data",
          "data": {
            "text/plain": [
              "[1] 4"
            ],
            "text/latex": "4",
            "text/markdown": "4",
            "text/html": [
              "4"
            ]
          },
          "metadata": {}
        }
      ]
    },
    {
      "cell_type": "code",
      "metadata": {
        "colab": {
          "base_uri": "https://localhost:8080/",
          "height": 34
        },
        "id": "QiSO7LSzAchE",
        "outputId": "3a969d3c-9250-4744-da4b-24ed195dac4a"
      },
      "source": [
        "30 * 30"
      ],
      "execution_count": null,
      "outputs": [
        {
          "output_type": "display_data",
          "data": {
            "text/plain": [
              "[1] 900"
            ],
            "text/latex": "900",
            "text/markdown": "900",
            "text/html": [
              "900"
            ]
          },
          "metadata": {}
        }
      ]
    },
    {
      "cell_type": "code",
      "metadata": {
        "colab": {
          "base_uri": "https://localhost:8080/",
          "height": 34
        },
        "id": "b7xkZP44AhKC",
        "outputId": "4e8fa3b6-f9e7-4fa7-c282-9e64b48e2e3d"
      },
      "source": [
        "12 / 3"
      ],
      "execution_count": null,
      "outputs": [
        {
          "output_type": "display_data",
          "data": {
            "text/plain": [
              "[1] 4"
            ],
            "text/latex": "4",
            "text/markdown": "4",
            "text/html": [
              "4"
            ]
          },
          "metadata": {}
        }
      ]
    },
    {
      "cell_type": "code",
      "metadata": {
        "colab": {
          "base_uri": "https://localhost:8080/",
          "height": 34
        },
        "id": "-PW1PD2lAjWg",
        "outputId": "0b09f25b-d226-4cf1-af3e-4c30a9ee4441"
      },
      "source": [
        "3^3"
      ],
      "execution_count": null,
      "outputs": [
        {
          "output_type": "display_data",
          "data": {
            "text/plain": [
              "[1] 27"
            ],
            "text/latex": "27",
            "text/markdown": "27",
            "text/html": [
              "27"
            ]
          },
          "metadata": {}
        }
      ]
    },
    {
      "cell_type": "code",
      "metadata": {
        "colab": {
          "base_uri": "https://localhost:8080/",
          "height": 34
        },
        "id": "TgBmGcUQAmH4",
        "outputId": "2928c6bb-7ff1-4c82-e8ef-162ff824762d"
      },
      "source": [
        "11 %% 3"
      ],
      "execution_count": null,
      "outputs": [
        {
          "output_type": "display_data",
          "data": {
            "text/plain": [
              "[1] 2"
            ],
            "text/latex": "2",
            "text/markdown": "2",
            "text/html": [
              "2"
            ]
          },
          "metadata": {}
        }
      ]
    },
    {
      "cell_type": "markdown",
      "metadata": {
        "id": "nm-DRt3yA29I"
      },
      "source": [
        "## You can do math too! "
      ]
    },
    {
      "cell_type": "code",
      "metadata": {
        "colab": {
          "base_uri": "https://localhost:8080/",
          "height": 34
        },
        "id": "lY7nGWEzApKe",
        "outputId": "f7f60c75-4ebb-4df2-e8cf-d0d3912bbad6"
      },
      "source": [
        "sqrt(10000)"
      ],
      "execution_count": null,
      "outputs": [
        {
          "output_type": "display_data",
          "data": {
            "text/plain": [
              "[1] 100"
            ],
            "text/latex": "100",
            "text/markdown": "100",
            "text/html": [
              "100"
            ]
          },
          "metadata": {}
        }
      ]
    },
    {
      "cell_type": "code",
      "metadata": {
        "colab": {
          "base_uri": "https://localhost:8080/",
          "height": 34
        },
        "id": "W5vqlOpLBb_g",
        "outputId": "2925fa02-63b9-4ca3-d551-b213a4616fd0"
      },
      "source": [
        "exp(-1)"
      ],
      "execution_count": null,
      "outputs": [
        {
          "output_type": "display_data",
          "data": {
            "text/plain": [
              "[1] 0.3678794"
            ],
            "text/latex": "0.367879441171442",
            "text/markdown": "0.367879441171442",
            "text/html": [
              "0.367879441171442"
            ]
          },
          "metadata": {}
        }
      ]
    },
    {
      "cell_type": "code",
      "metadata": {
        "colab": {
          "base_uri": "https://localhost:8080/",
          "height": 34
        },
        "id": "Lx12XcFrBhqd",
        "outputId": "d333e123-edf6-4e54-ecb8-b15368a0364c"
      },
      "source": [
        "sin(pi/2)"
      ],
      "execution_count": null,
      "outputs": [
        {
          "output_type": "display_data",
          "data": {
            "text/plain": [
              "[1] 1"
            ],
            "text/latex": "1",
            "text/markdown": "1",
            "text/html": [
              "1"
            ]
          },
          "metadata": {}
        }
      ]
    },
    {
      "cell_type": "code",
      "metadata": {
        "colab": {
          "base_uri": "https://localhost:8080/",
          "height": 34
        },
        "id": "ALDY_7sfBBwH",
        "outputId": "5c99669f-2466-4b6e-8a86-74e5ba51a010"
      },
      "source": [
        "atan(-Inf)"
      ],
      "execution_count": null,
      "outputs": [
        {
          "output_type": "display_data",
          "data": {
            "text/plain": [
              "[1] -1.570796"
            ],
            "text/latex": "-1.5707963267949",
            "text/markdown": "-1.5707963267949",
            "text/html": [
              "-1.5707963267949"
            ]
          },
          "metadata": {}
        }
      ]
    },
    {
      "cell_type": "markdown",
      "metadata": {
        "id": "VhiVXHjjB6Sd"
      },
      "source": [
        "### Datatypes in R"
      ]
    },
    {
      "cell_type": "markdown",
      "metadata": {
        "id": "GBSh1TQPD9X_"
      },
      "source": [
        "Logical: `TRUE`, `FALSE`  \n",
        "\n",
        "Numeric: `17.3`, `4.999`   \n",
        "\n",
        "Integer: `50L`, `27L`\n",
        "\n",
        "character: `'c'`, `\"good\"`, `\"C++\"`  \n"
      ]
    },
    {
      "cell_type": "code",
      "metadata": {
        "colab": {
          "base_uri": "https://localhost:8080/",
          "height": 34
        },
        "id": "f4_L8BvrGwc7",
        "outputId": "5bb0a242-1892-4c9d-d03f-9f751b4adffd"
      },
      "source": [
        "class(TRUE)"
      ],
      "execution_count": null,
      "outputs": [
        {
          "output_type": "display_data",
          "data": {
            "text/plain": [
              "[1] \"logical\""
            ],
            "text/latex": "'logical'",
            "text/markdown": "'logical'",
            "text/html": [
              "'logical'"
            ]
          },
          "metadata": {}
        }
      ]
    },
    {
      "cell_type": "code",
      "metadata": {
        "colab": {
          "base_uri": "https://localhost:8080/",
          "height": 34
        },
        "id": "9aFAwX0sHWZG",
        "outputId": "ad7cc852-81af-47b9-fa83-609a580369b2"
      },
      "source": [
        "class(10.5)"
      ],
      "execution_count": null,
      "outputs": [
        {
          "output_type": "display_data",
          "data": {
            "text/plain": [
              "[1] \"numeric\""
            ],
            "text/latex": "'numeric'",
            "text/markdown": "'numeric'",
            "text/html": [
              "'numeric'"
            ]
          },
          "metadata": {}
        }
      ]
    },
    {
      "cell_type": "code",
      "metadata": {
        "colab": {
          "base_uri": "https://localhost:8080/",
          "height": 34
        },
        "id": "aMtBuX9PHeHt",
        "outputId": "f374173a-2c9e-4820-8298-dece67f3ca81"
      },
      "source": [
        "class(2L)"
      ],
      "execution_count": null,
      "outputs": [
        {
          "output_type": "display_data",
          "data": {
            "text/plain": [
              "[1] \"integer\""
            ],
            "text/latex": "'integer'",
            "text/markdown": "'integer'",
            "text/html": [
              "'integer'"
            ]
          },
          "metadata": {}
        }
      ]
    },
    {
      "cell_type": "code",
      "metadata": {
        "colab": {
          "base_uri": "https://localhost:8080/",
          "height": 34
        },
        "id": "ug2GTPmxI7_G",
        "outputId": "ed7bdbd0-0ed4-409f-a613-926404645eb0"
      },
      "source": [
        "class('Howdy')"
      ],
      "execution_count": null,
      "outputs": [
        {
          "output_type": "display_data",
          "data": {
            "text/plain": [
              "[1] \"character\""
            ],
            "text/latex": "'character'",
            "text/markdown": "'character'",
            "text/html": [
              "'character'"
            ]
          },
          "metadata": {}
        }
      ]
    },
    {
      "cell_type": "code",
      "metadata": {
        "colab": {
          "base_uri": "https://localhost:8080/",
          "height": 34
        },
        "id": "ckhlKhAzI_u2",
        "outputId": "dce791c2-a331-47e6-e435-c50147eaa71f"
      },
      "source": [
        "class(\"Howdy everyone!\")"
      ],
      "execution_count": null,
      "outputs": [
        {
          "output_type": "display_data",
          "data": {
            "text/plain": [
              "[1] \"character\""
            ],
            "text/latex": "'character'",
            "text/markdown": "'character'",
            "text/html": [
              "'character'"
            ]
          },
          "metadata": {}
        }
      ]
    },
    {
      "cell_type": "code",
      "metadata": {
        "id": "7XoL6jZPyIrI",
        "colab": {
          "base_uri": "https://localhost:8080/",
          "height": 200
        },
        "outputId": "5ac71981-898f-4997-ed55-dedabb00415e"
      },
      "source": [
        "123\n",
        "'123'\n",
        "'123 howdy'\n",
        "\"OneTwentyThree\"\n",
        "35L\n",
        "TRUE\n",
        "true"
      ],
      "execution_count": null,
      "outputs": [
        {
          "output_type": "display_data",
          "data": {
            "text/plain": [
              "[1] 123"
            ],
            "text/latex": "123",
            "text/markdown": "123",
            "text/html": [
              "123"
            ]
          },
          "metadata": {}
        },
        {
          "output_type": "display_data",
          "data": {
            "text/plain": [
              "[1] \"123\""
            ],
            "text/latex": "'123'",
            "text/markdown": "'123'",
            "text/html": [
              "'123'"
            ]
          },
          "metadata": {}
        },
        {
          "output_type": "display_data",
          "data": {
            "text/plain": [
              "[1] \"123 howdy\""
            ],
            "text/latex": "'123 howdy'",
            "text/markdown": "'123 howdy'",
            "text/html": [
              "'123 howdy'"
            ]
          },
          "metadata": {}
        },
        {
          "output_type": "display_data",
          "data": {
            "text/plain": [
              "[1] \"OneTwentyThree\""
            ],
            "text/latex": "'OneTwentyThree'",
            "text/markdown": "'OneTwentyThree'",
            "text/html": [
              "'OneTwentyThree'"
            ]
          },
          "metadata": {}
        },
        {
          "output_type": "display_data",
          "data": {
            "text/plain": [
              "[1] 35"
            ],
            "text/latex": "35",
            "text/markdown": "35",
            "text/html": [
              "35"
            ]
          },
          "metadata": {}
        },
        {
          "output_type": "display_data",
          "data": {
            "text/plain": [
              "[1] TRUE"
            ],
            "text/latex": "TRUE",
            "text/markdown": "TRUE",
            "text/html": [
              "TRUE"
            ]
          },
          "metadata": {}
        },
        {
          "output_type": "error",
          "ename": "ERROR",
          "evalue": "ignored",
          "traceback": [
            "Error in eval(expr, envir, enclos): object 'true' not found\nTraceback:\n"
          ]
        }
      ]
    },
    {
      "cell_type": "code",
      "metadata": {
        "id": "Wl689FI-zvcv",
        "colab": {
          "base_uri": "https://localhost:8080/",
          "height": 97
        },
        "outputId": "f5467d04-c6b5-418f-8d4e-9d47e1f2d517"
      },
      "source": [
        "#write code for identifying class for each variable\n",
        "class( )\n",
        "class( )\n",
        "class( )\n",
        "class( )\n",
        "class( ) \n",
        "class( )\n",
        "class( )"
      ],
      "execution_count": null,
      "outputs": [
        {
          "output_type": "error",
          "ename": "ERROR",
          "evalue": "ignored",
          "traceback": [
            "Error in class(): 0 arguments passed to 'class' which requires 1\nTraceback:\n"
          ]
        }
      ]
    },
    {
      "cell_type": "markdown",
      "metadata": {
        "id": "9eUOnWGiFYOQ"
      },
      "source": [
        "### Variables"
      ]
    },
    {
      "cell_type": "markdown",
      "metadata": {
        "id": "MLsI8wR_CHMN"
      },
      "source": [
        "Variables are used to store values or objects. In R, we use `<-` or `=` to assign values to variables.\n",
        "\n",
        "`variable <- value`  \n",
        "`variable = value`  \n",
        "___\n",
        "Here, we will use print statement to print variables.  \n",
        "`print(variable)`"
      ]
    },
    {
      "cell_type": "code",
      "metadata": {
        "colab": {
          "base_uri": "https://localhost:8080/"
        },
        "id": "KGjmH1itCF19",
        "outputId": "5edd17d3-1afb-42d9-cc22-0787698fbc34"
      },
      "source": [
        "dogs = 3\n",
        "print(dogs)"
      ],
      "execution_count": null,
      "outputs": [
        {
          "output_type": "stream",
          "name": "stdout",
          "text": [
            "[1] 3\n"
          ]
        }
      ]
    },
    {
      "cell_type": "code",
      "metadata": {
        "colab": {
          "base_uri": "https://localhost:8080/"
        },
        "id": "9J68GTPoJmmC",
        "outputId": "c83497c1-8b47-4e56-9569-79c306461d63"
      },
      "source": [
        "cats <- 4\n",
        "print(cats)"
      ],
      "execution_count": null,
      "outputs": [
        {
          "output_type": "stream",
          "name": "stdout",
          "text": [
            "[1] 4\n"
          ]
        }
      ]
    },
    {
      "cell_type": "code",
      "metadata": {
        "colab": {
          "base_uri": "https://localhost:8080/"
        },
        "id": "rrQNxjnYKTUa",
        "outputId": "12df4054-6369-427c-8d19-b44a85d3f8db"
      },
      "source": [
        "print(dogs + cats)"
      ],
      "execution_count": null,
      "outputs": [
        {
          "output_type": "stream",
          "name": "stdout",
          "text": [
            "[1] 7\n"
          ]
        }
      ]
    },
    {
      "cell_type": "code",
      "metadata": {
        "colab": {
          "base_uri": "https://localhost:8080/"
        },
        "id": "WHh9Kqlz1xoU",
        "outputId": "11d18fc9-be8b-49e9-bbd2-adbcac712d1b"
      },
      "source": [
        "event1 = \"Dog runs\"\n",
        "print(event1) "
      ],
      "execution_count": null,
      "outputs": [
        {
          "output_type": "stream",
          "name": "stdout",
          "text": [
            "[1] \"Dog runs\"\n"
          ]
        }
      ]
    },
    {
      "cell_type": "code",
      "metadata": {
        "id": "9hBmhRPq2EdX",
        "colab": {
          "base_uri": "https://localhost:8080/"
        },
        "outputId": "8ed234f8-d01e-4e26-c07a-451309261ac2"
      },
      "source": [
        "event2 = 'Cat drinks water'\n",
        "print(event2)"
      ],
      "execution_count": null,
      "outputs": [
        {
          "output_type": "stream",
          "name": "stdout",
          "text": [
            "[1] \"Cat drinks water\"\n"
          ]
        }
      ]
    },
    {
      "cell_type": "code",
      "metadata": {
        "id": "ytA2-5LH2Llh",
        "colab": {
          "base_uri": "https://localhost:8080/",
          "height": 132
        },
        "outputId": "10861a22-689b-41a7-b8ce-14a030d62789"
      },
      "source": [
        "print(event1 + event2)"
      ],
      "execution_count": null,
      "outputs": [
        {
          "output_type": "error",
          "ename": "ERROR",
          "evalue": "ignored",
          "traceback": [
            "Error in event1 + event2: non-numeric argument to binary operator\nTraceback:\n",
            "1. print(event1 + event2)"
          ]
        }
      ]
    },
    {
      "cell_type": "code",
      "metadata": {
        "id": "Dxj_BuG02x9I",
        "colab": {
          "base_uri": "https://localhost:8080/",
          "height": 34
        },
        "outputId": "8f5043b0-65d4-4af1-8ad7-88f0722e5f3b"
      },
      "source": [
        "paste(event1,event2, sep=' and ')"
      ],
      "execution_count": null,
      "outputs": [
        {
          "output_type": "display_data",
          "data": {
            "text/plain": [
              "[1] \"Dog runs and Cat drinks water\""
            ],
            "text/latex": "'Dog runs and Cat drinks water'",
            "text/markdown": "'Dog runs and Cat drinks water'",
            "text/html": [
              "'Dog runs and Cat drinks water'"
            ]
          },
          "metadata": {}
        }
      ]
    },
    {
      "cell_type": "markdown",
      "metadata": {
        "id": "0pst2fPVx1eW"
      },
      "source": [
        "## Datastructures in R\n",
        "- "
      ]
    },
    {
      "cell_type": "markdown",
      "metadata": {
        "id": "nqmR81-dxpq4"
      },
      "source": [
        "## Vectors: Collection of Data\n",
        "## `c()` is used to create vectors in R.\n",
        "\n",
        "It is **NOT** recommended to use different datatypes in a vector.  \n",
        "- When multiple datatypes are used in the same vector, values are coerced to the most flexible data type.  \n",
        "- Therefore, vectors (atomic vectors) can only have a single data type.\n",
        "Vector with only one type of data has a special name in R: **`Atomic Vector`**"
      ]
    },
    {
      "cell_type": "code",
      "metadata": {
        "id": "2qA5gJVBx2Ez"
      },
      "source": [
        "#Numeric\n",
        "numeric_data = c(23,34,89,29, 20, 333)\n",
        "\n",
        "#Characters\n",
        "characters = c(\"hello\", \"howdy\", \"hola\", \"bonjour\")\n",
        "\n",
        "#logical\n",
        "logical_vector = c(TRUE, FALSE, F, T, F)\n",
        "\n",
        "#mix\n",
        "mix_vector = c(\"howdy\", 23L, 25, T, TRUE)\n",
        "\n",
        "#mix\n",
        "mix_vector_2 = c(23L, 25, T)"
      ],
      "execution_count": null,
      "outputs": []
    },
    {
      "cell_type": "code",
      "metadata": {
        "id": "qgcdqeKZyLx8",
        "colab": {
          "base_uri": "https://localhost:8080/"
        },
        "outputId": "1db98c87-9017-4e6e-aaf0-3e14c428cb08"
      },
      "source": [
        "print(mix_vector)"
      ],
      "execution_count": null,
      "outputs": [
        {
          "output_type": "stream",
          "name": "stdout",
          "text": [
            "[1] \"howdy\" \"23\"    \"25\"    \"TRUE\"  \"TRUE\" \n"
          ]
        }
      ]
    },
    {
      "cell_type": "code",
      "metadata": {
        "id": "NP8UDSpNzq8F",
        "colab": {
          "base_uri": "https://localhost:8080/",
          "height": 34
        },
        "outputId": "57abcc19-85d0-49a5-aa99-aab592cb999c"
      },
      "source": [
        "class(mix_vector)"
      ],
      "execution_count": null,
      "outputs": [
        {
          "output_type": "display_data",
          "data": {
            "text/plain": [
              "[1] \"character\""
            ],
            "text/latex": "'character'",
            "text/markdown": "'character'",
            "text/html": [
              "'character'"
            ]
          },
          "metadata": {}
        }
      ]
    },
    {
      "cell_type": "code",
      "metadata": {
        "id": "14ko3yGc62Fu",
        "colab": {
          "base_uri": "https://localhost:8080/",
          "height": 34
        },
        "outputId": "5efe7731-400c-4f3e-dbd6-47bf960981bb"
      },
      "source": [
        "class(mix_vector_2)"
      ],
      "execution_count": null,
      "outputs": [
        {
          "output_type": "display_data",
          "data": {
            "text/plain": [
              "[1] \"numeric\""
            ],
            "text/latex": "'numeric'",
            "text/markdown": "'numeric'",
            "text/html": [
              "'numeric'"
            ]
          },
          "metadata": {}
        }
      ]
    },
    {
      "cell_type": "code",
      "metadata": {
        "id": "_PwyiR_L7s2H",
        "colab": {
          "base_uri": "https://localhost:8080/",
          "height": 34
        },
        "outputId": "178f360f-3836-4d29-9ec2-66dd3aa15e27"
      },
      "source": [
        "class(mix_vector_2[2])"
      ],
      "execution_count": null,
      "outputs": [
        {
          "output_type": "display_data",
          "data": {
            "text/plain": [
              "[1] \"numeric\""
            ],
            "text/latex": "'numeric'",
            "text/markdown": "'numeric'",
            "text/html": [
              "'numeric'"
            ]
          },
          "metadata": {}
        }
      ]
    },
    {
      "cell_type": "code",
      "metadata": {
        "id": "RIkUgG_M758d",
        "colab": {
          "base_uri": "https://localhost:8080/"
        },
        "outputId": "aec924c3-c5de-4183-93a8-aba421799bcc"
      },
      "source": [
        "print(mix_vector_2)"
      ],
      "execution_count": null,
      "outputs": [
        {
          "output_type": "stream",
          "name": "stdout",
          "text": [
            "[1] 23 25  1\n"
          ]
        }
      ]
    },
    {
      "cell_type": "code",
      "metadata": {
        "id": "U_oF6xwo8IJu",
        "colab": {
          "base_uri": "https://localhost:8080/",
          "height": 34
        },
        "outputId": "1d8b95c3-9283-4143-9747-8e75b2e59702"
      },
      "source": [
        "characters[1:4]"
      ],
      "execution_count": null,
      "outputs": [
        {
          "output_type": "display_data",
          "data": {
            "text/plain": [
              "[1] \"hello\"   \"howdy\"   \"hola\"    \"bonjour\""
            ],
            "text/latex": "\\begin{enumerate*}\n\\item 'hello'\n\\item 'howdy'\n\\item 'hola'\n\\item 'bonjour'\n\\end{enumerate*}\n",
            "text/markdown": "1. 'hello'\n2. 'howdy'\n3. 'hola'\n4. 'bonjour'\n\n\n",
            "text/html": [
              "<style>\n",
              ".list-inline {list-style: none; margin:0; padding: 0}\n",
              ".list-inline>li {display: inline-block}\n",
              ".list-inline>li:not(:last-child)::after {content: \"\\00b7\"; padding: 0 .5ex}\n",
              "</style>\n",
              "<ol class=list-inline><li>'hello'</li><li>'howdy'</li><li>'hola'</li><li>'bonjour'</li></ol>\n"
            ]
          },
          "metadata": {}
        }
      ]
    },
    {
      "cell_type": "code",
      "metadata": {
        "colab": {
          "base_uri": "https://localhost:8080/"
        },
        "id": "sk58YC3H7Eap",
        "outputId": "61cdd06a-273d-428b-87e9-42990e257364"
      },
      "source": [
        "vec1 = 1:10\n",
        "vec2 = c(1:10)\n",
        "vec3 = c(1,2,3,4,5,6,7,8,9,10)\n",
        "\n",
        "#print\n",
        "print(vec1)\n",
        "print(vec2)\n",
        "print(vec3)"
      ],
      "execution_count": null,
      "outputs": [
        {
          "output_type": "stream",
          "name": "stdout",
          "text": [
            " [1]  1  2  3  4  5  6  7  8  9 10\n",
            " [1]  1  2  3  4  5  6  7  8  9 10\n",
            " [1]  1  2  3  4  5  6  7  8  9 10\n"
          ]
        }
      ]
    },
    {
      "cell_type": "code",
      "metadata": {
        "colab": {
          "base_uri": "https://localhost:8080/"
        },
        "id": "_PDm6IXf7X60",
        "outputId": "26da85dd-3970-434e-eb0a-aa55c10e65cc"
      },
      "source": [
        "s = seq(1,5,by=0.5)\n",
        "print(s)"
      ],
      "execution_count": null,
      "outputs": [
        {
          "output_type": "stream",
          "name": "stdout",
          "text": [
            "[1] 1.0 1.5 2.0 2.5 3.0 3.5 4.0 4.5 5.0\n"
          ]
        }
      ]
    },
    {
      "cell_type": "markdown",
      "metadata": {
        "id": "SrQ8x3uQnpeN"
      },
      "source": [
        "## Vector Arithmetics"
      ]
    },
    {
      "cell_type": "code",
      "metadata": {
        "colab": {
          "base_uri": "https://localhost:8080/"
        },
        "id": "x3Q86ykyntTs",
        "outputId": "a6784c74-edd8-4359-956b-e7d4c4f7ea91"
      },
      "source": [
        "#addition\n",
        "a = c(3,6,9)\n",
        "b = c(9,6,3)\n",
        "\n",
        "c = a + b\n",
        "print(c)"
      ],
      "execution_count": null,
      "outputs": [
        {
          "output_type": "stream",
          "name": "stdout",
          "text": [
            "[1] 12 12 12\n"
          ]
        }
      ]
    },
    {
      "cell_type": "code",
      "metadata": {
        "id": "mMD_NWJzn-CP",
        "colab": {
          "base_uri": "https://localhost:8080/",
          "height": 34
        },
        "outputId": "becbe9a5-978c-4876-a165-a2d352547f9c"
      },
      "source": [
        "# scalar multiplication\n",
        "2*a"
      ],
      "execution_count": null,
      "outputs": [
        {
          "output_type": "display_data",
          "data": {
            "text/plain": [
              "[1]  6 12 18"
            ],
            "text/latex": "\\begin{enumerate*}\n\\item 6\n\\item 12\n\\item 18\n\\end{enumerate*}\n",
            "text/markdown": "1. 6\n2. 12\n3. 18\n\n\n",
            "text/html": [
              "<style>\n",
              ".list-inline {list-style: none; margin:0; padding: 0}\n",
              ".list-inline>li {display: inline-block}\n",
              ".list-inline>li:not(:last-child)::after {content: \"\\00b7\"; padding: 0 .5ex}\n",
              "</style>\n",
              "<ol class=list-inline><li>6</li><li>12</li><li>18</li></ol>\n"
            ]
          },
          "metadata": {}
        }
      ]
    },
    {
      "cell_type": "code",
      "metadata": {
        "id": "LTBZwv0_oFMk",
        "colab": {
          "base_uri": "https://localhost:8080/",
          "height": 34
        },
        "outputId": "41864c77-e584-4dc6-d868-ccf85b3e68bc"
      },
      "source": [
        "#vector to vector mltiplication: \n",
        "a*b"
      ],
      "execution_count": null,
      "outputs": [
        {
          "output_type": "display_data",
          "data": {
            "text/plain": [
              "[1] 27 36 27"
            ],
            "text/latex": "\\begin{enumerate*}\n\\item 27\n\\item 36\n\\item 27\n\\end{enumerate*}\n",
            "text/markdown": "1. 27\n2. 36\n3. 27\n\n\n",
            "text/html": [
              "<style>\n",
              ".list-inline {list-style: none; margin:0; padding: 0}\n",
              ".list-inline>li {display: inline-block}\n",
              ".list-inline>li:not(:last-child)::after {content: \"\\00b7\"; padding: 0 .5ex}\n",
              "</style>\n",
              "<ol class=list-inline><li>27</li><li>36</li><li>27</li></ol>\n"
            ]
          },
          "metadata": {}
        }
      ]
    },
    {
      "cell_type": "code",
      "metadata": {
        "colab": {
          "base_uri": "https://localhost:8080/",
          "height": 34
        },
        "id": "fX5_kv-joOjD",
        "outputId": "9b8d7c33-006c-4f16-e950-dfa05d2a516e"
      },
      "source": [
        "#multiplication of vectors with different dimensions\n",
        "d = c(2,3,4,5,6,7)\n",
        "a*d"
      ],
      "execution_count": null,
      "outputs": [
        {
          "output_type": "display_data",
          "data": {
            "text/plain": [
              "[1]  6 18 36 15 36 63"
            ],
            "text/latex": "\\begin{enumerate*}\n\\item 6\n\\item 18\n\\item 36\n\\item 15\n\\item 36\n\\item 63\n\\end{enumerate*}\n",
            "text/markdown": "1. 6\n2. 18\n3. 36\n4. 15\n5. 36\n6. 63\n\n\n",
            "text/html": [
              "<style>\n",
              ".list-inline {list-style: none; margin:0; padding: 0}\n",
              ".list-inline>li {display: inline-block}\n",
              ".list-inline>li:not(:last-child)::after {content: \"\\00b7\"; padding: 0 .5ex}\n",
              "</style>\n",
              "<ol class=list-inline><li>6</li><li>18</li><li>36</li><li>15</li><li>36</li><li>63</li></ol>\n"
            ]
          },
          "metadata": {}
        }
      ]
    },
    {
      "cell_type": "markdown",
      "metadata": {
        "id": "uDn7Aq8a5Hyr"
      },
      "source": [
        "## Vector selection with indexes"
      ]
    },
    {
      "cell_type": "code",
      "metadata": {
        "id": "2FxFk_m46AZv"
      },
      "source": [
        "a_vector = c(10,9,8,7,6,5,4,3,2,1)"
      ],
      "execution_count": null,
      "outputs": []
    },
    {
      "cell_type": "code",
      "metadata": {
        "colab": {
          "base_uri": "https://localhost:8080/",
          "height": 34
        },
        "id": "w_NFeDdN6jcd",
        "outputId": "da6a2b78-3b47-43a0-e8cc-88a5d9e6554d"
      },
      "source": [
        "a_vector[1]"
      ],
      "execution_count": null,
      "outputs": [
        {
          "output_type": "display_data",
          "data": {
            "text/plain": [
              "[1] 10"
            ],
            "text/latex": "10",
            "text/markdown": "10",
            "text/html": [
              "10"
            ]
          },
          "metadata": {}
        }
      ]
    },
    {
      "cell_type": "code",
      "metadata": {
        "colab": {
          "base_uri": "https://localhost:8080/",
          "height": 34
        },
        "id": "mBR51r086kwW",
        "outputId": "9ca1d414-57c8-4fe6-d900-a7e6baf46280"
      },
      "source": [
        "a_vector[1:4]"
      ],
      "execution_count": null,
      "outputs": [
        {
          "output_type": "display_data",
          "data": {
            "text/plain": [
              "[1] 10  9  8  7"
            ],
            "text/latex": "\\begin{enumerate*}\n\\item 10\n\\item 9\n\\item 8\n\\item 7\n\\end{enumerate*}\n",
            "text/markdown": "1. 10\n2. 9\n3. 8\n4. 7\n\n\n",
            "text/html": [
              "<style>\n",
              ".list-inline {list-style: none; margin:0; padding: 0}\n",
              ".list-inline>li {display: inline-block}\n",
              ".list-inline>li:not(:last-child)::after {content: \"\\00b7\"; padding: 0 .5ex}\n",
              "</style>\n",
              "<ol class=list-inline><li>10</li><li>9</li><li>8</li><li>7</li></ol>\n"
            ]
          },
          "metadata": {}
        }
      ]
    },
    {
      "cell_type": "code",
      "metadata": {
        "colab": {
          "base_uri": "https://localhost:8080/",
          "height": 34
        },
        "id": "jOIpifQ2-f5w",
        "outputId": "707c1d72-a3cf-42ed-e333-80b6c38bee73"
      },
      "source": [
        "a_vector[]"
      ],
      "execution_count": null,
      "outputs": [
        {
          "output_type": "display_data",
          "data": {
            "text/plain": [
              " [1] 10  9  8  7  6  5  4  3  2  1"
            ],
            "text/latex": "\\begin{enumerate*}\n\\item 10\n\\item 9\n\\item 8\n\\item 7\n\\item 6\n\\item 5\n\\item 4\n\\item 3\n\\item 2\n\\item 1\n\\end{enumerate*}\n",
            "text/markdown": "1. 10\n2. 9\n3. 8\n4. 7\n5. 6\n6. 5\n7. 4\n8. 3\n9. 2\n10. 1\n\n\n",
            "text/html": [
              "<style>\n",
              ".list-inline {list-style: none; margin:0; padding: 0}\n",
              ".list-inline>li {display: inline-block}\n",
              ".list-inline>li:not(:last-child)::after {content: \"\\00b7\"; padding: 0 .5ex}\n",
              "</style>\n",
              "<ol class=list-inline><li>10</li><li>9</li><li>8</li><li>7</li><li>6</li><li>5</li><li>4</li><li>3</li><li>2</li><li>1</li></ol>\n"
            ]
          },
          "metadata": {}
        }
      ]
    },
    {
      "cell_type": "code",
      "metadata": {
        "colab": {
          "base_uri": "https://localhost:8080/",
          "height": 34
        },
        "id": "FAU_2QVhOQ9W",
        "outputId": "d009d7c6-8bcd-4469-805b-847e3507f3ae"
      },
      "source": [
        "a_vector[]"
      ],
      "execution_count": null,
      "outputs": [
        {
          "output_type": "display_data",
          "data": {
            "text/plain": [
              " [1] 10  9  8  7  6  5  4  3  2  1"
            ],
            "text/latex": "\\begin{enumerate*}\n\\item 10\n\\item 9\n\\item 8\n\\item 7\n\\item 6\n\\item 5\n\\item 4\n\\item 3\n\\item 2\n\\item 1\n\\end{enumerate*}\n",
            "text/markdown": "1. 10\n2. 9\n3. 8\n4. 7\n5. 6\n6. 5\n7. 4\n8. 3\n9. 2\n10. 1\n\n\n",
            "text/html": [
              "<style>\n",
              ".list-inline {list-style: none; margin:0; padding: 0}\n",
              ".list-inline>li {display: inline-block}\n",
              ".list-inline>li:not(:last-child)::after {content: \"\\00b7\"; padding: 0 .5ex}\n",
              "</style>\n",
              "<ol class=list-inline><li>10</li><li>9</li><li>8</li><li>7</li><li>6</li><li>5</li><li>4</li><li>3</li><li>2</li><li>1</li></ol>\n"
            ]
          },
          "metadata": {}
        }
      ]
    },
    {
      "cell_type": "code",
      "metadata": {
        "id": "e8td_CGWOUWn",
        "colab": {
          "base_uri": "https://localhost:8080/",
          "height": 34
        },
        "outputId": "7047ead1-d583-4923-a65d-d36d1088f137"
      },
      "source": [
        "a_vector[-2]"
      ],
      "execution_count": null,
      "outputs": [
        {
          "output_type": "display_data",
          "data": {
            "text/plain": [
              "[1] 10  8  7  6  5  4  3  2  1"
            ],
            "text/latex": "\\begin{enumerate*}\n\\item 10\n\\item 8\n\\item 7\n\\item 6\n\\item 5\n\\item 4\n\\item 3\n\\item 2\n\\item 1\n\\end{enumerate*}\n",
            "text/markdown": "1. 10\n2. 8\n3. 7\n4. 6\n5. 5\n6. 4\n7. 3\n8. 2\n9. 1\n\n\n",
            "text/html": [
              "<style>\n",
              ".list-inline {list-style: none; margin:0; padding: 0}\n",
              ".list-inline>li {display: inline-block}\n",
              ".list-inline>li:not(:last-child)::after {content: \"\\00b7\"; padding: 0 .5ex}\n",
              "</style>\n",
              "<ol class=list-inline><li>10</li><li>8</li><li>7</li><li>6</li><li>5</li><li>4</li><li>3</li><li>2</li><li>1</li></ol>\n"
            ]
          },
          "metadata": {}
        }
      ]
    },
    {
      "cell_type": "code",
      "metadata": {
        "colab": {
          "base_uri": "https://localhost:8080/",
          "height": 34
        },
        "id": "dUAG4drfVTny",
        "outputId": "8c34bc0b-e3da-4d24-9644-493c6d9cae14"
      },
      "source": [
        "a_vector[-2:-4]"
      ],
      "execution_count": null,
      "outputs": [
        {
          "output_type": "display_data",
          "data": {
            "text/plain": [
              "[1] 10  6  5  4  3  2  1"
            ],
            "text/latex": "\\begin{enumerate*}\n\\item 10\n\\item 6\n\\item 5\n\\item 4\n\\item 3\n\\item 2\n\\item 1\n\\end{enumerate*}\n",
            "text/markdown": "1. 10\n2. 6\n3. 5\n4. 4\n5. 3\n6. 2\n7. 1\n\n\n",
            "text/html": [
              "<style>\n",
              ".list-inline {list-style: none; margin:0; padding: 0}\n",
              ".list-inline>li {display: inline-block}\n",
              ".list-inline>li:not(:last-child)::after {content: \"\\00b7\"; padding: 0 .5ex}\n",
              "</style>\n",
              "<ol class=list-inline><li>10</li><li>6</li><li>5</li><li>4</li><li>3</li><li>2</li><li>1</li></ol>\n"
            ]
          },
          "metadata": {}
        }
      ]
    },
    {
      "cell_type": "code",
      "metadata": {
        "colab": {
          "base_uri": "https://localhost:8080/",
          "height": 34
        },
        "id": "ITqCUk4jYLXv",
        "outputId": "379a717f-0baf-4e86-dca0-0911a9b6044e"
      },
      "source": [
        "a_vector[-2:-4]"
      ],
      "execution_count": null,
      "outputs": [
        {
          "output_type": "display_data",
          "data": {
            "text/plain": [
              "[1] 10  6  5  4  3  2  1"
            ],
            "text/latex": "\\begin{enumerate*}\n\\item 10\n\\item 6\n\\item 5\n\\item 4\n\\item 3\n\\item 2\n\\item 1\n\\end{enumerate*}\n",
            "text/markdown": "1. 10\n2. 6\n3. 5\n4. 4\n5. 3\n6. 2\n7. 1\n\n\n",
            "text/html": [
              "<style>\n",
              ".list-inline {list-style: none; margin:0; padding: 0}\n",
              ".list-inline>li {display: inline-block}\n",
              ".list-inline>li:not(:last-child)::after {content: \"\\00b7\"; padding: 0 .5ex}\n",
              "</style>\n",
              "<ol class=list-inline><li>10</li><li>6</li><li>5</li><li>4</li><li>3</li><li>2</li><li>1</li></ol>\n"
            ]
          },
          "metadata": {}
        }
      ]
    },
    {
      "cell_type": "code",
      "metadata": {
        "colab": {
          "base_uri": "https://localhost:8080/",
          "height": 34
        },
        "id": "cr6Lpc8vbeDT",
        "outputId": "8422bebc-85b9-452e-cdef-cb9146aeff64"
      },
      "source": [
        "a_vector[c(3,4,5)]"
      ],
      "execution_count": null,
      "outputs": [
        {
          "output_type": "display_data",
          "data": {
            "text/plain": [
              "[1] 8 7 6"
            ],
            "text/latex": "\\begin{enumerate*}\n\\item 8\n\\item 7\n\\item 6\n\\end{enumerate*}\n",
            "text/markdown": "1. 8\n2. 7\n3. 6\n\n\n",
            "text/html": [
              "<style>\n",
              ".list-inline {list-style: none; margin:0; padding: 0}\n",
              ".list-inline>li {display: inline-block}\n",
              ".list-inline>li:not(:last-child)::after {content: \"\\00b7\"; padding: 0 .5ex}\n",
              "</style>\n",
              "<ol class=list-inline><li>8</li><li>7</li><li>6</li></ol>\n"
            ]
          },
          "metadata": {}
        }
      ]
    },
    {
      "cell_type": "code",
      "metadata": {
        "colab": {
          "base_uri": "https://localhost:8080/",
          "height": 34
        },
        "id": "wXVSBcYfYc-N",
        "outputId": "cf8e6db0-c65c-49b5-c566-c42a3229e824"
      },
      "source": [
        "a_vector[c(2:4,5:6)]"
      ],
      "execution_count": null,
      "outputs": [
        {
          "output_type": "display_data",
          "data": {
            "text/plain": [
              "[1] 9 8 7 6 5"
            ],
            "text/latex": "\\begin{enumerate*}\n\\item 9\n\\item 8\n\\item 7\n\\item 6\n\\item 5\n\\end{enumerate*}\n",
            "text/markdown": "1. 9\n2. 8\n3. 7\n4. 6\n5. 5\n\n\n",
            "text/html": [
              "<style>\n",
              ".list-inline {list-style: none; margin:0; padding: 0}\n",
              ".list-inline>li {display: inline-block}\n",
              ".list-inline>li:not(:last-child)::after {content: \"\\00b7\"; padding: 0 .5ex}\n",
              "</style>\n",
              "<ol class=list-inline><li>9</li><li>8</li><li>7</li><li>6</li><li>5</li></ol>\n"
            ]
          },
          "metadata": {}
        }
      ]
    },
    {
      "cell_type": "code",
      "metadata": {
        "colab": {
          "base_uri": "https://localhost:8080/",
          "height": 34
        },
        "id": "J-Z-4g3ycCbY",
        "outputId": "47e54bd0-5d49-459f-d1a7-1aa8c273161a"
      },
      "source": [
        "a_vector[c(-4,-3)]"
      ],
      "execution_count": null,
      "outputs": [
        {
          "output_type": "display_data",
          "data": {
            "text/plain": [
              "[1] 10  9  6  5  4  3  2  1"
            ],
            "text/latex": "\\begin{enumerate*}\n\\item 10\n\\item 9\n\\item 6\n\\item 5\n\\item 4\n\\item 3\n\\item 2\n\\item 1\n\\end{enumerate*}\n",
            "text/markdown": "1. 10\n2. 9\n3. 6\n4. 5\n5. 4\n6. 3\n7. 2\n8. 1\n\n\n",
            "text/html": [
              "<style>\n",
              ".list-inline {list-style: none; margin:0; padding: 0}\n",
              ".list-inline>li {display: inline-block}\n",
              ".list-inline>li:not(:last-child)::after {content: \"\\00b7\"; padding: 0 .5ex}\n",
              "</style>\n",
              "<ol class=list-inline><li>10</li><li>9</li><li>6</li><li>5</li><li>4</li><li>3</li><li>2</li><li>1</li></ol>\n"
            ]
          },
          "metadata": {}
        }
      ]
    },
    {
      "cell_type": "markdown",
      "metadata": {
        "id": "b9T0-bR9cTol"
      },
      "source": [
        "##### Experiment with indexes!!!"
      ]
    },
    {
      "cell_type": "markdown",
      "metadata": {
        "id": "-KB5C48Vc3BJ"
      },
      "source": [
        "## Conditional Vector Selection"
      ]
    },
    {
      "cell_type": "code",
      "metadata": {
        "colab": {
          "base_uri": "https://localhost:8080/",
          "height": 34
        },
        "id": "SZRx33omeuBG",
        "outputId": "e959995d-ff3d-4492-c18a-5af72614428f"
      },
      "source": [
        "#Let's try something dumb first\n",
        "a_vector > 4"
      ],
      "execution_count": null,
      "outputs": [
        {
          "output_type": "display_data",
          "data": {
            "text/plain": [
              " [1]  TRUE  TRUE  TRUE  TRUE  TRUE  TRUE FALSE FALSE FALSE FALSE"
            ],
            "text/latex": "\\begin{enumerate*}\n\\item TRUE\n\\item TRUE\n\\item TRUE\n\\item TRUE\n\\item TRUE\n\\item TRUE\n\\item FALSE\n\\item FALSE\n\\item FALSE\n\\item FALSE\n\\end{enumerate*}\n",
            "text/markdown": "1. TRUE\n2. TRUE\n3. TRUE\n4. TRUE\n5. TRUE\n6. TRUE\n7. FALSE\n8. FALSE\n9. FALSE\n10. FALSE\n\n\n",
            "text/html": [
              "<style>\n",
              ".list-inline {list-style: none; margin:0; padding: 0}\n",
              ".list-inline>li {display: inline-block}\n",
              ".list-inline>li:not(:last-child)::after {content: \"\\00b7\"; padding: 0 .5ex}\n",
              "</style>\n",
              "<ol class=list-inline><li>TRUE</li><li>TRUE</li><li>TRUE</li><li>TRUE</li><li>TRUE</li><li>TRUE</li><li>FALSE</li><li>FALSE</li><li>FALSE</li><li>FALSE</li></ol>\n"
            ]
          },
          "metadata": {}
        }
      ]
    },
    {
      "cell_type": "code",
      "metadata": {
        "colab": {
          "base_uri": "https://localhost:8080/",
          "height": 34
        },
        "id": "gzGxnWkrc9Di",
        "outputId": "0e88625f-2e7c-4a22-b955-6e5cb9ba6575"
      },
      "source": [
        "condition = a_vector > 4\n",
        "a_vector[condition]"
      ],
      "execution_count": null,
      "outputs": [
        {
          "output_type": "display_data",
          "data": {
            "text/plain": [
              "[1] 10  9  8  7  6  5"
            ],
            "text/latex": "\\begin{enumerate*}\n\\item 10\n\\item 9\n\\item 8\n\\item 7\n\\item 6\n\\item 5\n\\end{enumerate*}\n",
            "text/markdown": "1. 10\n2. 9\n3. 8\n4. 7\n5. 6\n6. 5\n\n\n",
            "text/html": [
              "<style>\n",
              ".list-inline {list-style: none; margin:0; padding: 0}\n",
              ".list-inline>li {display: inline-block}\n",
              ".list-inline>li:not(:last-child)::after {content: \"\\00b7\"; padding: 0 .5ex}\n",
              "</style>\n",
              "<ol class=list-inline><li>10</li><li>9</li><li>8</li><li>7</li><li>6</li><li>5</li></ol>\n"
            ]
          },
          "metadata": {}
        }
      ]
    },
    {
      "cell_type": "code",
      "metadata": {
        "colab": {
          "base_uri": "https://localhost:8080/",
          "height": 34
        },
        "id": "T8JzMvrJg5Ye",
        "outputId": "50032cad-8435-4c15-ab48-0cab769016a5"
      },
      "source": [
        "condition_2 = mean(a_vector) > a_vector\n",
        "a_vector[condition_2]"
      ],
      "execution_count": null,
      "outputs": [
        {
          "output_type": "display_data",
          "data": {
            "text/plain": [
              "[1] 5 4 3 2 1"
            ],
            "text/latex": "\\begin{enumerate*}\n\\item 5\n\\item 4\n\\item 3\n\\item 2\n\\item 1\n\\end{enumerate*}\n",
            "text/markdown": "1. 5\n2. 4\n3. 3\n4. 2\n5. 1\n\n\n",
            "text/html": [
              "<style>\n",
              ".list-inline {list-style: none; margin:0; padding: 0}\n",
              ".list-inline>li {display: inline-block}\n",
              ".list-inline>li:not(:last-child)::after {content: \"\\00b7\"; padding: 0 .5ex}\n",
              "</style>\n",
              "<ol class=list-inline><li>5</li><li>4</li><li>3</li><li>2</li><li>1</li></ol>\n"
            ]
          },
          "metadata": {}
        }
      ]
    },
    {
      "cell_type": "markdown",
      "metadata": {
        "id": "K5pGwZMfhjB1"
      },
      "source": [
        "## Matrices"
      ]
    },
    {
      "cell_type": "markdown",
      "metadata": {
        "id": "a6GVubg9h4Ca"
      },
      "source": [
        "Matrix is an extension of vectors.  \n",
        "- Collection of elements of the same data type arranged into a fixed umber of rows and columns. "
      ]
    },
    {
      "cell_type": "code",
      "metadata": {
        "colab": {
          "base_uri": "https://localhost:8080/",
          "height": 176
        },
        "id": "welupvn9hk7J",
        "outputId": "174354df-fac1-416b-8865-216f4adab73c"
      },
      "source": [
        "mat = matrix(1:20, byrow=1,nrow=4)\n",
        "mat"
      ],
      "execution_count": null,
      "outputs": [
        {
          "output_type": "display_data",
          "data": {
            "text/plain": [
              "     [,1] [,2] [,3] [,4] [,5]\n",
              "[1,]  1    2    3    4    5  \n",
              "[2,]  6    7    8    9   10  \n",
              "[3,] 11   12   13   14   15  \n",
              "[4,] 16   17   18   19   20  "
            ],
            "text/latex": "A matrix: 4 × 5 of type int\n\\begin{tabular}{lllll}\n\t  1 &  2 &  3 &  4 &  5\\\\\n\t  6 &  7 &  8 &  9 & 10\\\\\n\t 11 & 12 & 13 & 14 & 15\\\\\n\t 16 & 17 & 18 & 19 & 20\\\\\n\\end{tabular}\n",
            "text/markdown": "\nA matrix: 4 × 5 of type int\n\n|  1 |  2 |  3 |  4 |  5 |\n|  6 |  7 |  8 |  9 | 10 |\n| 11 | 12 | 13 | 14 | 15 |\n| 16 | 17 | 18 | 19 | 20 |\n\n",
            "text/html": [
              "<table class=\"dataframe\">\n",
              "<caption>A matrix: 4 × 5 of type int</caption>\n",
              "<tbody>\n",
              "\t<tr><td> 1</td><td> 2</td><td> 3</td><td> 4</td><td> 5</td></tr>\n",
              "\t<tr><td> 6</td><td> 7</td><td> 8</td><td> 9</td><td>10</td></tr>\n",
              "\t<tr><td>11</td><td>12</td><td>13</td><td>14</td><td>15</td></tr>\n",
              "\t<tr><td>16</td><td>17</td><td>18</td><td>19</td><td>20</td></tr>\n",
              "</tbody>\n",
              "</table>\n"
            ]
          },
          "metadata": {}
        }
      ]
    },
    {
      "cell_type": "code",
      "metadata": {
        "colab": {
          "base_uri": "https://localhost:8080/"
        },
        "id": "486CP4EKjqTT",
        "outputId": "c395bc10-e81b-4d70-e137-4c35bbe114e6"
      },
      "source": [
        "sandwich = c(\"whichwhich\", \"subway\", \"schlotzsky's\")\n",
        "high_price = c(13, 9, 14)\n",
        "low_price = c(7, 6, 9)\n",
        "\n",
        "sandwich_price = matrix(c(high_price, low_price), byrow = T, nrow=2)\n",
        "print(sandwich_price)"
      ],
      "execution_count": null,
      "outputs": [
        {
          "output_type": "stream",
          "name": "stdout",
          "text": [
            "     [,1] [,2] [,3]\n",
            "[1,]   13    9   14\n",
            "[2,]    7    6    9\n"
          ]
        }
      ]
    },
    {
      "cell_type": "code",
      "metadata": {
        "colab": {
          "base_uri": "https://localhost:8080/"
        },
        "id": "dOuMoUk0kBTL",
        "outputId": "9aac752f-e9f4-4054-8cc4-baba0c43cd8e"
      },
      "source": [
        "rownames(sandwich_price) = c(\"high_price\",\"low_price\")\n",
        "colnames(sandwich_price) = sandwich\n",
        "\n",
        "print(sandwich_price)"
      ],
      "execution_count": null,
      "outputs": [
        {
          "output_type": "stream",
          "name": "stdout",
          "text": [
            "           whichwhich subway schlotzsky's\n",
            "high_price         13      9           14\n",
            "low_price           7      6            9\n"
          ]
        }
      ]
    },
    {
      "cell_type": "code",
      "metadata": {
        "id": "U1NXya7gSMd9",
        "colab": {
          "base_uri": "https://localhost:8080/",
          "height": 34
        },
        "outputId": "c2e434d2-7fea-49a7-98c4-4d443032623e"
      },
      "source": [
        "typeof(sandwich_price)"
      ],
      "execution_count": null,
      "outputs": [
        {
          "output_type": "display_data",
          "data": {
            "text/plain": [
              "[1] \"double\""
            ],
            "text/latex": "'double'",
            "text/markdown": "'double'",
            "text/html": [
              "'double'"
            ]
          },
          "metadata": {}
        }
      ]
    },
    {
      "cell_type": "code",
      "metadata": {
        "colab": {
          "base_uri": "https://localhost:8080/",
          "height": 160
        },
        "id": "SI2d5WMnSsx0",
        "outputId": "4c5e6bae-d4ee-4fe4-d54e-305e6d6a9965"
      },
      "source": [
        "#Add new row (entry) to the matrix using rbind\n",
        "\n",
        "condiment_price = c(2,1,3)\n",
        "new_sandwich_price = rbind(sandwich_price, condiment_price)\n",
        "new_sandwich_price"
      ],
      "execution_count": null,
      "outputs": [
        {
          "output_type": "display_data",
          "data": {
            "text/plain": [
              "                whichwhich subway schlotzsky's\n",
              "high_price      13         9      14          \n",
              "low_price        7         6       9          \n",
              "condiment_price  2         1       3          "
            ],
            "text/latex": "A matrix: 3 × 3 of type dbl\n\\begin{tabular}{r|lll}\n  & whichwhich & subway & schlotzsky's\\\\\n\\hline\n\thigh\\_price & 13 & 9 & 14\\\\\n\tlow\\_price &  7 & 6 &  9\\\\\n\tcondiment\\_price &  2 & 1 &  3\\\\\n\\end{tabular}\n",
            "text/markdown": "\nA matrix: 3 × 3 of type dbl\n\n| <!--/--> | whichwhich | subway | schlotzsky's |\n|---|---|---|---|\n| high_price | 13 | 9 | 14 |\n| low_price |  7 | 6 |  9 |\n| condiment_price |  2 | 1 |  3 |\n\n",
            "text/html": [
              "<table class=\"dataframe\">\n",
              "<caption>A matrix: 3 × 3 of type dbl</caption>\n",
              "<thead>\n",
              "\t<tr><th></th><th scope=col>whichwhich</th><th scope=col>subway</th><th scope=col>schlotzsky's</th></tr>\n",
              "</thead>\n",
              "<tbody>\n",
              "\t<tr><th scope=row>high_price</th><td>13</td><td>9</td><td>14</td></tr>\n",
              "\t<tr><th scope=row>low_price</th><td> 7</td><td>6</td><td> 9</td></tr>\n",
              "\t<tr><th scope=row>condiment_price</th><td> 2</td><td>1</td><td> 3</td></tr>\n",
              "</tbody>\n",
              "</table>\n"
            ]
          },
          "metadata": {}
        }
      ]
    },
    {
      "cell_type": "code",
      "metadata": {
        "colab": {
          "base_uri": "https://localhost:8080/",
          "height": 160
        },
        "id": "ECByjMY1WJI4",
        "outputId": "a1e22261-eefd-429a-8fc8-1b3508427d02"
      },
      "source": [
        "column_addition = cbind(new_sandwich_price, c(16, 8, 3))\n",
        "colnames(column_addition) = c(sandwich, \"JimmyJohn's\")\n",
        "column_addition"
      ],
      "execution_count": null,
      "outputs": [
        {
          "output_type": "display_data",
          "data": {
            "text/plain": [
              "                whichwhich subway schlotzsky's JimmyJohn's\n",
              "high_price      13         9      14           16         \n",
              "low_price        7         6       9            8         \n",
              "condiment_price  2         1       3            3         "
            ],
            "text/latex": "A matrix: 3 × 4 of type dbl\n\\begin{tabular}{r|llll}\n  & whichwhich & subway & schlotzsky's & JimmyJohn's\\\\\n\\hline\n\thigh\\_price & 13 & 9 & 14 & 16\\\\\n\tlow\\_price &  7 & 6 &  9 &  8\\\\\n\tcondiment\\_price &  2 & 1 &  3 &  3\\\\\n\\end{tabular}\n",
            "text/markdown": "\nA matrix: 3 × 4 of type dbl\n\n| <!--/--> | whichwhich | subway | schlotzsky's | JimmyJohn's |\n|---|---|---|---|---|\n| high_price | 13 | 9 | 14 | 16 |\n| low_price |  7 | 6 |  9 |  8 |\n| condiment_price |  2 | 1 |  3 |  3 |\n\n",
            "text/html": [
              "<table class=\"dataframe\">\n",
              "<caption>A matrix: 3 × 4 of type dbl</caption>\n",
              "<thead>\n",
              "\t<tr><th></th><th scope=col>whichwhich</th><th scope=col>subway</th><th scope=col>schlotzsky's</th><th scope=col>JimmyJohn's</th></tr>\n",
              "</thead>\n",
              "<tbody>\n",
              "\t<tr><th scope=row>high_price</th><td>13</td><td>9</td><td>14</td><td>16</td></tr>\n",
              "\t<tr><th scope=row>low_price</th><td> 7</td><td>6</td><td> 9</td><td> 8</td></tr>\n",
              "\t<tr><th scope=row>condiment_price</th><td> 2</td><td>1</td><td> 3</td><td> 3</td></tr>\n",
              "</tbody>\n",
              "</table>\n"
            ]
          },
          "metadata": {}
        }
      ]
    },
    {
      "cell_type": "markdown",
      "metadata": {
        "id": "T-8wkDqcY--8"
      },
      "source": [
        "**We can access elements from an array similarly as we do from vectors, using square brackets.**"
      ]
    },
    {
      "cell_type": "code",
      "metadata": {
        "colab": {
          "base_uri": "https://localhost:8080/",
          "height": 129
        },
        "id": "ZeCJa3ixZyq2",
        "outputId": "286ee6d2-c0cd-417f-e286-ad37e0191d86"
      },
      "source": [
        "#example\n",
        "new_sandwich_price[2:3, 1:2]"
      ],
      "execution_count": null,
      "outputs": [
        {
          "output_type": "display_data",
          "data": {
            "text/plain": [
              "                whichwhich subway\n",
              "low_price       7          6     \n",
              "condiment_price 2          1     "
            ],
            "text/latex": "A matrix: 2 × 2 of type dbl\n\\begin{tabular}{r|ll}\n  & whichwhich & subway\\\\\n\\hline\n\tlow\\_price & 7 & 6\\\\\n\tcondiment\\_price & 2 & 1\\\\\n\\end{tabular}\n",
            "text/markdown": "\nA matrix: 2 × 2 of type dbl\n\n| <!--/--> | whichwhich | subway |\n|---|---|---|\n| low_price | 7 | 6 |\n| condiment_price | 2 | 1 |\n\n",
            "text/html": [
              "<table class=\"dataframe\">\n",
              "<caption>A matrix: 2 × 2 of type dbl</caption>\n",
              "<thead>\n",
              "\t<tr><th></th><th scope=col>whichwhich</th><th scope=col>subway</th></tr>\n",
              "</thead>\n",
              "<tbody>\n",
              "\t<tr><th scope=row>low_price</th><td>7</td><td>6</td></tr>\n",
              "\t<tr><th scope=row>condiment_price</th><td>2</td><td>1</td></tr>\n",
              "</tbody>\n",
              "</table>\n"
            ]
          },
          "metadata": {}
        }
      ]
    },
    {
      "cell_type": "markdown",
      "metadata": {
        "id": "kKFJgsIUaPAT"
      },
      "source": [
        "## Dataframes"
      ]
    },
    {
      "cell_type": "markdown",
      "metadata": {
        "id": "RjlHcwEtaUJu"
      },
      "source": [
        "Dataframes are the most flexible data structures. Most of **the real world data** requires our data structure to be very flexible so as to include many different datatypes.\n",
        "- Example: Consider a dataset containing census data:\n",
        "    - Names: `character`\n",
        "    - Age: `Numeric` or `Integer`\n",
        "    - Employment Status: `Factor` (Categorical variable with \"employed\" or \"unemployed\")\n",
        "    - Names of off-springs: `list of characters`  \n",
        "\n",
        "Categorical variables are classified as `Factor` in R.\n",
        "\n"
      ]
    },
    {
      "cell_type": "code",
      "metadata": {
        "colab": {
          "base_uri": "https://localhost:8080/"
        },
        "id": "KtudO6olcyzs",
        "outputId": "19eac232-dd68-4833-a6a0-c5e8565f4572"
      },
      "source": [
        "install.packages(\"ISLR\")\n",
        "library(ISLR)"
      ],
      "execution_count": null,
      "outputs": [
        {
          "output_type": "stream",
          "name": "stderr",
          "text": [
            "Installing package into ‘/usr/local/lib/R/site-library’\n",
            "(as ‘lib’ is unspecified)\n",
            "\n"
          ]
        }
      ]
    },
    {
      "cell_type": "code",
      "metadata": {
        "colab": {
          "base_uri": "https://localhost:8080/",
          "height": 285
        },
        "id": "k1_TP-_1fKKe",
        "outputId": "a0d59179-d10a-4352-d1bc-55becd9ccb24"
      },
      "source": [
        "head(Carseats)"
      ],
      "execution_count": null,
      "outputs": [
        {
          "output_type": "display_data",
          "data": {
            "text/plain": [
              "  Sales CompPrice Income Advertising Population Price ShelveLoc Age Education\n",
              "1  9.50 138        73    11          276        120   Bad       42  17       \n",
              "2 11.22 111        48    16          260         83   Good      65  10       \n",
              "3 10.06 113        35    10          269         80   Medium    59  12       \n",
              "4  7.40 117       100     4          466         97   Medium    55  14       \n",
              "5  4.15 141        64     3          340        128   Bad       38  13       \n",
              "6 10.81 124       113    13          501         72   Bad       78  16       \n",
              "  Urban US \n",
              "1 Yes   Yes\n",
              "2 Yes   Yes\n",
              "3 Yes   Yes\n",
              "4 Yes   Yes\n",
              "5 Yes   No \n",
              "6 No    Yes"
            ],
            "text/latex": "A data.frame: 6 × 11\n\\begin{tabular}{r|lllllllllll}\n  & Sales & CompPrice & Income & Advertising & Population & Price & ShelveLoc & Age & Education & Urban & US\\\\\n  & <dbl> & <dbl> & <dbl> & <dbl> & <dbl> & <dbl> & <fct> & <dbl> & <dbl> & <fct> & <fct>\\\\\n\\hline\n\t1 &  9.50 & 138 &  73 & 11 & 276 & 120 & Bad    & 42 & 17 & Yes & Yes\\\\\n\t2 & 11.22 & 111 &  48 & 16 & 260 &  83 & Good   & 65 & 10 & Yes & Yes\\\\\n\t3 & 10.06 & 113 &  35 & 10 & 269 &  80 & Medium & 59 & 12 & Yes & Yes\\\\\n\t4 &  7.40 & 117 & 100 &  4 & 466 &  97 & Medium & 55 & 14 & Yes & Yes\\\\\n\t5 &  4.15 & 141 &  64 &  3 & 340 & 128 & Bad    & 38 & 13 & Yes & No \\\\\n\t6 & 10.81 & 124 & 113 & 13 & 501 &  72 & Bad    & 78 & 16 & No  & Yes\\\\\n\\end{tabular}\n",
            "text/markdown": "\nA data.frame: 6 × 11\n\n| <!--/--> | Sales &lt;dbl&gt; | CompPrice &lt;dbl&gt; | Income &lt;dbl&gt; | Advertising &lt;dbl&gt; | Population &lt;dbl&gt; | Price &lt;dbl&gt; | ShelveLoc &lt;fct&gt; | Age &lt;dbl&gt; | Education &lt;dbl&gt; | Urban &lt;fct&gt; | US &lt;fct&gt; |\n|---|---|---|---|---|---|---|---|---|---|---|---|\n| 1 |  9.50 | 138 |  73 | 11 | 276 | 120 | Bad    | 42 | 17 | Yes | Yes |\n| 2 | 11.22 | 111 |  48 | 16 | 260 |  83 | Good   | 65 | 10 | Yes | Yes |\n| 3 | 10.06 | 113 |  35 | 10 | 269 |  80 | Medium | 59 | 12 | Yes | Yes |\n| 4 |  7.40 | 117 | 100 |  4 | 466 |  97 | Medium | 55 | 14 | Yes | Yes |\n| 5 |  4.15 | 141 |  64 |  3 | 340 | 128 | Bad    | 38 | 13 | Yes | No  |\n| 6 | 10.81 | 124 | 113 | 13 | 501 |  72 | Bad    | 78 | 16 | No  | Yes |\n\n",
            "text/html": [
              "<table class=\"dataframe\">\n",
              "<caption>A data.frame: 6 × 11</caption>\n",
              "<thead>\n",
              "\t<tr><th></th><th scope=col>Sales</th><th scope=col>CompPrice</th><th scope=col>Income</th><th scope=col>Advertising</th><th scope=col>Population</th><th scope=col>Price</th><th scope=col>ShelveLoc</th><th scope=col>Age</th><th scope=col>Education</th><th scope=col>Urban</th><th scope=col>US</th></tr>\n",
              "\t<tr><th></th><th scope=col>&lt;dbl&gt;</th><th scope=col>&lt;dbl&gt;</th><th scope=col>&lt;dbl&gt;</th><th scope=col>&lt;dbl&gt;</th><th scope=col>&lt;dbl&gt;</th><th scope=col>&lt;dbl&gt;</th><th scope=col>&lt;fct&gt;</th><th scope=col>&lt;dbl&gt;</th><th scope=col>&lt;dbl&gt;</th><th scope=col>&lt;fct&gt;</th><th scope=col>&lt;fct&gt;</th></tr>\n",
              "</thead>\n",
              "<tbody>\n",
              "\t<tr><th scope=row>1</th><td> 9.50</td><td>138</td><td> 73</td><td>11</td><td>276</td><td>120</td><td>Bad   </td><td>42</td><td>17</td><td>Yes</td><td>Yes</td></tr>\n",
              "\t<tr><th scope=row>2</th><td>11.22</td><td>111</td><td> 48</td><td>16</td><td>260</td><td> 83</td><td>Good  </td><td>65</td><td>10</td><td>Yes</td><td>Yes</td></tr>\n",
              "\t<tr><th scope=row>3</th><td>10.06</td><td>113</td><td> 35</td><td>10</td><td>269</td><td> 80</td><td>Medium</td><td>59</td><td>12</td><td>Yes</td><td>Yes</td></tr>\n",
              "\t<tr><th scope=row>4</th><td> 7.40</td><td>117</td><td>100</td><td> 4</td><td>466</td><td> 97</td><td>Medium</td><td>55</td><td>14</td><td>Yes</td><td>Yes</td></tr>\n",
              "\t<tr><th scope=row>5</th><td> 4.15</td><td>141</td><td> 64</td><td> 3</td><td>340</td><td>128</td><td>Bad   </td><td>38</td><td>13</td><td>Yes</td><td>No </td></tr>\n",
              "\t<tr><th scope=row>6</th><td>10.81</td><td>124</td><td>113</td><td>13</td><td>501</td><td> 72</td><td>Bad   </td><td>78</td><td>16</td><td>No </td><td>Yes</td></tr>\n",
              "</tbody>\n",
              "</table>\n"
            ]
          },
          "metadata": {}
        }
      ]
    },
    {
      "cell_type": "markdown",
      "metadata": {
        "id": "soQ2tWCSEmV-"
      },
      "source": [
        "Parameter | Description\n",
        "--- | ---\n",
        "`Sales` | Unit sales (in thousands) at each location\n",
        "`CompPrice` | Price charged by competitor at each location\n",
        "`Income`  | Community income level (in thousands of dollars)\n",
        "`Advertising`  | Local advertising budget for company at each location (in thousands of dollars)\n",
        "`Population`  | Population size in region (in thousands)\n",
        "`Price`  | Price company charges for car seats at each site\n",
        "`ShelveLoc`  | A factor with levels Bad, Good and Medium indicating the quality of the shelving location for the car seats at each site\n",
        "`Age`  | Average age of the local population\n",
        "`Education`  | Education level at each location\n",
        "`Urban`  | A factor with levels No and Yes to indicate whether the store is in an urban or rural location\n",
        "`US`  | A factor with levels No and Yes to indicate whether the store is in the US or not"
      ]
    },
    {
      "cell_type": "code",
      "metadata": {
        "colab": {
          "base_uri": "https://localhost:8080/"
        },
        "id": "I32UB4CtB8Td",
        "outputId": "4db206ae-cb16-4bbf-c42f-38e2410d77f5"
      },
      "source": [
        "str(Carseats)"
      ],
      "execution_count": null,
      "outputs": [
        {
          "output_type": "stream",
          "name": "stdout",
          "text": [
            "'data.frame':\t400 obs. of  11 variables:\n",
            " $ Sales      : num  9.5 11.22 10.06 7.4 4.15 ...\n",
            " $ CompPrice  : num  138 111 113 117 141 124 115 136 132 132 ...\n",
            " $ Income     : num  73 48 35 100 64 113 105 81 110 113 ...\n",
            " $ Advertising: num  11 16 10 4 3 13 0 15 0 0 ...\n",
            " $ Population : num  276 260 269 466 340 501 45 425 108 131 ...\n",
            " $ Price      : num  120 83 80 97 128 72 108 120 124 124 ...\n",
            " $ ShelveLoc  : Factor w/ 3 levels \"Bad\",\"Good\",\"Medium\": 1 2 3 3 1 1 3 2 3 3 ...\n",
            " $ Age        : num  42 65 59 55 38 78 71 67 76 76 ...\n",
            " $ Education  : num  17 10 12 14 13 16 15 10 10 17 ...\n",
            " $ Urban      : Factor w/ 2 levels \"No\",\"Yes\": 2 2 2 2 2 1 2 2 1 1 ...\n",
            " $ US         : Factor w/ 2 levels \"No\",\"Yes\": 2 2 2 2 1 2 1 2 1 2 ...\n"
          ]
        }
      ]
    },
    {
      "cell_type": "code",
      "metadata": {
        "id": "MqMB36QjEAW7"
      },
      "source": [
        "# Create a vector.\n",
        "apple_colors <- c('green','green','yellow','red','red','red','green')\n",
        "\n",
        "# Create a factor object.\n",
        "factor_apple <- factor(apple_colors)"
      ],
      "execution_count": null,
      "outputs": []
    },
    {
      "cell_type": "code",
      "metadata": {
        "colab": {
          "base_uri": "https://localhost:8080/",
          "height": 34
        },
        "id": "bivIb-GxELt9",
        "outputId": "a988afc9-96b4-4961-be8f-c1836a1c47ad"
      },
      "source": [
        "class(factor_apple)"
      ],
      "execution_count": null,
      "outputs": [
        {
          "output_type": "display_data",
          "data": {
            "text/plain": [
              "[1] \"factor\""
            ],
            "text/latex": "'factor'",
            "text/markdown": "'factor'",
            "text/html": [
              "'factor'"
            ]
          },
          "metadata": {}
        }
      ]
    },
    {
      "cell_type": "code",
      "metadata": {
        "colab": {
          "base_uri": "https://localhost:8080/",
          "height": 34
        },
        "id": "cddiK4MUEOcM",
        "outputId": "6968cd84-4638-4892-f191-ae8245e1a316"
      },
      "source": [
        "nlevels(factor_apple)"
      ],
      "execution_count": null,
      "outputs": [
        {
          "output_type": "display_data",
          "data": {
            "text/plain": [
              "[1] 3"
            ],
            "text/latex": "3",
            "text/markdown": "3",
            "text/html": [
              "3"
            ]
          },
          "metadata": {}
        }
      ]
    },
    {
      "cell_type": "code",
      "metadata": {
        "colab": {
          "base_uri": "https://localhost:8080/",
          "height": 222
        },
        "id": "QlqT0NWEETX4",
        "outputId": "2666d764-9f1f-4965-fee4-3fc69fd19f16"
      },
      "source": [
        "# Definition of vectors\n",
        "Instrument <- c(\"Guitar\", \"Violin\", \"Harmonica\", \"Bongo\")\n",
        "type <- c(\"string\", \"string\", \"wind\", \"percussion\")\n",
        "high_freq_Hz <- c(1200, 17000, 10000, 18000)\n",
        "low_freq_Hz <- c(80, 190, 300, 200)\n",
        "country_origin <- c(\"Spain\", \"Italy\", \"Germany\", \"Cuba\")\n",
        "\n",
        "# Create a data frame from the vectors\n",
        "Instruments_df <- data.frame(Instrument = Instrument, Type = type, \"high_freq_Hz\" = high_freq_Hz, \"low_freq_Hz\" = low_freq_Hz, \"origin_country\" = country_origin)\n",
        "\n",
        "Instruments_df"
      ],
      "execution_count": null,
      "outputs": [
        {
          "output_type": "display_data",
          "data": {
            "text/plain": [
              "  Instrument Type       high_freq_Hz low_freq_Hz origin_country\n",
              "1 Guitar     string      1200         80         Spain         \n",
              "2 Violin     string     17000        190         Italy         \n",
              "3 Harmonica  wind       10000        300         Germany       \n",
              "4 Bongo      percussion 18000        200         Cuba          "
            ],
            "text/latex": "A data.frame: 4 × 5\n\\begin{tabular}{lllll}\n Instrument & Type & high\\_freq\\_Hz & low\\_freq\\_Hz & origin\\_country\\\\\n <chr> & <chr> & <dbl> & <dbl> & <chr>\\\\\n\\hline\n\t Guitar    & string     &  1200 &  80 & Spain  \\\\\n\t Violin    & string     & 17000 & 190 & Italy  \\\\\n\t Harmonica & wind       & 10000 & 300 & Germany\\\\\n\t Bongo     & percussion & 18000 & 200 & Cuba   \\\\\n\\end{tabular}\n",
            "text/markdown": "\nA data.frame: 4 × 5\n\n| Instrument &lt;chr&gt; | Type &lt;chr&gt; | high_freq_Hz &lt;dbl&gt; | low_freq_Hz &lt;dbl&gt; | origin_country &lt;chr&gt; |\n|---|---|---|---|---|\n| Guitar    | string     |  1200 |  80 | Spain   |\n| Violin    | string     | 17000 | 190 | Italy   |\n| Harmonica | wind       | 10000 | 300 | Germany |\n| Bongo     | percussion | 18000 | 200 | Cuba    |\n\n",
            "text/html": [
              "<table class=\"dataframe\">\n",
              "<caption>A data.frame: 4 × 5</caption>\n",
              "<thead>\n",
              "\t<tr><th scope=col>Instrument</th><th scope=col>Type</th><th scope=col>high_freq_Hz</th><th scope=col>low_freq_Hz</th><th scope=col>origin_country</th></tr>\n",
              "\t<tr><th scope=col>&lt;chr&gt;</th><th scope=col>&lt;chr&gt;</th><th scope=col>&lt;dbl&gt;</th><th scope=col>&lt;dbl&gt;</th><th scope=col>&lt;chr&gt;</th></tr>\n",
              "</thead>\n",
              "<tbody>\n",
              "\t<tr><td>Guitar   </td><td>string    </td><td> 1200</td><td> 80</td><td>Spain  </td></tr>\n",
              "\t<tr><td>Violin   </td><td>string    </td><td>17000</td><td>190</td><td>Italy  </td></tr>\n",
              "\t<tr><td>Harmonica</td><td>wind      </td><td>10000</td><td>300</td><td>Germany</td></tr>\n",
              "\t<tr><td>Bongo    </td><td>percussion</td><td>18000</td><td>200</td><td>Cuba   </td></tr>\n",
              "</tbody>\n",
              "</table>\n"
            ]
          },
          "metadata": {}
        }
      ]
    },
    {
      "cell_type": "markdown",
      "metadata": {
        "id": "7LPd7Z5sOkgR"
      },
      "source": [
        "We can convert some variables (Parameters) to `Factor`"
      ]
    },
    {
      "cell_type": "code",
      "metadata": {
        "id": "MpeWu7sqO264"
      },
      "source": [
        "Instruments_df$Type <- as.factor(Instruments_df$Type)"
      ],
      "execution_count": null,
      "outputs": []
    },
    {
      "cell_type": "code",
      "metadata": {
        "colab": {
          "base_uri": "https://localhost:8080/",
          "height": 222
        },
        "id": "oDW3S82oO_fx",
        "outputId": "bd41e720-6b02-4833-aa0a-7bc8bba2785b"
      },
      "source": [
        "Instruments_df"
      ],
      "execution_count": null,
      "outputs": [
        {
          "output_type": "display_data",
          "data": {
            "text/plain": [
              "  Instrument Type       high_freq_Hz low_freq_Hz origin_country\n",
              "1 Guitar     string      1200         80         Spain         \n",
              "2 Violin     string     17000        190         Italy         \n",
              "3 Harmonica  wind       10000        300         Germany       \n",
              "4 Bongo      percussion 18000        200         Cuba          "
            ],
            "text/latex": "A data.frame: 4 × 5\n\\begin{tabular}{lllll}\n Instrument & Type & high\\_freq\\_Hz & low\\_freq\\_Hz & origin\\_country\\\\\n <chr> & <fct> & <dbl> & <dbl> & <chr>\\\\\n\\hline\n\t Guitar    & string     &  1200 &  80 & Spain  \\\\\n\t Violin    & string     & 17000 & 190 & Italy  \\\\\n\t Harmonica & wind       & 10000 & 300 & Germany\\\\\n\t Bongo     & percussion & 18000 & 200 & Cuba   \\\\\n\\end{tabular}\n",
            "text/markdown": "\nA data.frame: 4 × 5\n\n| Instrument &lt;chr&gt; | Type &lt;fct&gt; | high_freq_Hz &lt;dbl&gt; | low_freq_Hz &lt;dbl&gt; | origin_country &lt;chr&gt; |\n|---|---|---|---|---|\n| Guitar    | string     |  1200 |  80 | Spain   |\n| Violin    | string     | 17000 | 190 | Italy   |\n| Harmonica | wind       | 10000 | 300 | Germany |\n| Bongo     | percussion | 18000 | 200 | Cuba    |\n\n",
            "text/html": [
              "<table class=\"dataframe\">\n",
              "<caption>A data.frame: 4 × 5</caption>\n",
              "<thead>\n",
              "\t<tr><th scope=col>Instrument</th><th scope=col>Type</th><th scope=col>high_freq_Hz</th><th scope=col>low_freq_Hz</th><th scope=col>origin_country</th></tr>\n",
              "\t<tr><th scope=col>&lt;chr&gt;</th><th scope=col>&lt;fct&gt;</th><th scope=col>&lt;dbl&gt;</th><th scope=col>&lt;dbl&gt;</th><th scope=col>&lt;chr&gt;</th></tr>\n",
              "</thead>\n",
              "<tbody>\n",
              "\t<tr><td>Guitar   </td><td>string    </td><td> 1200</td><td> 80</td><td>Spain  </td></tr>\n",
              "\t<tr><td>Violin   </td><td>string    </td><td>17000</td><td>190</td><td>Italy  </td></tr>\n",
              "\t<tr><td>Harmonica</td><td>wind      </td><td>10000</td><td>300</td><td>Germany</td></tr>\n",
              "\t<tr><td>Bongo    </td><td>percussion</td><td>18000</td><td>200</td><td>Cuba   </td></tr>\n",
              "</tbody>\n",
              "</table>\n"
            ]
          },
          "metadata": {}
        }
      ]
    },
    {
      "cell_type": "markdown",
      "metadata": {
        "id": "TEcXf1vNSKju"
      },
      "source": [
        "## Selection from Data Frame\n",
        "\n",
        "- `my_df[1,2]` selects the value at the first row and second column in `my_df`.  \n",
        "- `my_df[1:3, 2:4]` selects rows 1, 2, 3 and columns 2, 3, 4 in `my_df`.  \n",
        "- Sometimes you want to select all elements of a row or column.  \n",
        "- For example, `my_df[1, ]` selects all elements of the first row."
      ]
    },
    {
      "cell_type": "code",
      "metadata": {
        "colab": {
          "base_uri": "https://localhost:8080/"
        },
        "id": "EmdDOmc6S3Vm",
        "outputId": "77e99b0a-61c2-4f3e-f556-f005f96e242a"
      },
      "source": [
        "# Get country of origin for Harmonica\n",
        "harmonica_origin1 = Instruments_df[3, c(1, 4)]\n",
        "harmonica_origin2 = Instruments_df[3, c(\"Instrument\", \"low_freq_Hz\")]\n",
        "\n",
        "print(harmonica_origin1)\n",
        "print(harmonica_origin2)"
      ],
      "execution_count": null,
      "outputs": [
        {
          "output_type": "stream",
          "name": "stdout",
          "text": [
            "  Instrument low_freq_Hz\n",
            "3  Harmonica         300\n",
            "  Instrument low_freq_Hz\n",
            "3  Harmonica         300\n"
          ]
        }
      ]
    },
    {
      "cell_type": "code",
      "metadata": {
        "colab": {
          "base_uri": "https://localhost:8080/",
          "height": 129
        },
        "id": "zTi0At-ITqW-",
        "outputId": "aa5ff0c0-9d1d-4d0f-a4de-bd0c5421cd7b"
      },
      "source": [
        "Instruments_df[2,]"
      ],
      "execution_count": null,
      "outputs": [
        {
          "output_type": "display_data",
          "data": {
            "text/plain": [
              "  Instrument Type   high_freq_Hz low_freq_Hz origin_country\n",
              "2 Violin     string 17000        190         Italy         "
            ],
            "text/latex": "A data.frame: 1 × 5\n\\begin{tabular}{r|lllll}\n  & Instrument & Type & high\\_freq\\_Hz & low\\_freq\\_Hz & origin\\_country\\\\\n  & <chr> & <fct> & <dbl> & <dbl> & <chr>\\\\\n\\hline\n\t2 & Violin & string & 17000 & 190 & Italy\\\\\n\\end{tabular}\n",
            "text/markdown": "\nA data.frame: 1 × 5\n\n| <!--/--> | Instrument &lt;chr&gt; | Type &lt;fct&gt; | high_freq_Hz &lt;dbl&gt; | low_freq_Hz &lt;dbl&gt; | origin_country &lt;chr&gt; |\n|---|---|---|---|---|---|\n| 2 | Violin | string | 17000 | 190 | Italy |\n\n",
            "text/html": [
              "<table class=\"dataframe\">\n",
              "<caption>A data.frame: 1 × 5</caption>\n",
              "<thead>\n",
              "\t<tr><th></th><th scope=col>Instrument</th><th scope=col>Type</th><th scope=col>high_freq_Hz</th><th scope=col>low_freq_Hz</th><th scope=col>origin_country</th></tr>\n",
              "\t<tr><th></th><th scope=col>&lt;chr&gt;</th><th scope=col>&lt;fct&gt;</th><th scope=col>&lt;dbl&gt;</th><th scope=col>&lt;dbl&gt;</th><th scope=col>&lt;chr&gt;</th></tr>\n",
              "</thead>\n",
              "<tbody>\n",
              "\t<tr><th scope=row>2</th><td>Violin</td><td>string</td><td>17000</td><td>190</td><td>Italy</td></tr>\n",
              "</tbody>\n",
              "</table>\n"
            ]
          },
          "metadata": {}
        }
      ]
    },
    {
      "cell_type": "code",
      "metadata": {
        "colab": {
          "base_uri": "https://localhost:8080/",
          "height": 34
        },
        "id": "LSgQP5DUWRYR",
        "outputId": "4fbb01e5-d63c-4429-ccc2-1710f4588959"
      },
      "source": [
        "Instruments_df[,3]"
      ],
      "execution_count": null,
      "outputs": [
        {
          "output_type": "display_data",
          "data": {
            "text/plain": [
              "[1]  1200 17000 10000 18000"
            ],
            "text/latex": "\\begin{enumerate*}\n\\item 1200\n\\item 17000\n\\item 10000\n\\item 18000\n\\end{enumerate*}\n",
            "text/markdown": "1. 1200\n2. 17000\n3. 10000\n4. 18000\n\n\n",
            "text/html": [
              "<style>\n",
              ".list-inline {list-style: none; margin:0; padding: 0}\n",
              ".list-inline>li {display: inline-block}\n",
              ".list-inline>li:not(:last-child)::after {content: \"\\00b7\"; padding: 0 .5ex}\n",
              "</style>\n",
              "<ol class=list-inline><li>1200</li><li>17000</li><li>10000</li><li>18000</li></ol>\n"
            ]
          },
          "metadata": {}
        }
      ]
    },
    {
      "cell_type": "code",
      "metadata": {
        "colab": {
          "base_uri": "https://localhost:8080/",
          "height": 34
        },
        "id": "U0bkaeebWnLQ",
        "outputId": "889aa9c1-4970-4e2d-e06d-747d5bdf095e"
      },
      "source": [
        "Instruments_df[4,1]"
      ],
      "execution_count": null,
      "outputs": [
        {
          "output_type": "display_data",
          "data": {
            "text/plain": [
              "[1] \"Bongo\""
            ],
            "text/latex": "'Bongo'",
            "text/markdown": "'Bongo'",
            "text/html": [
              "'Bongo'"
            ]
          },
          "metadata": {}
        }
      ]
    },
    {
      "cell_type": "code",
      "metadata": {
        "id": "gMTkDJcY7gbD",
        "colab": {
          "base_uri": "https://localhost:8080/",
          "height": 34
        },
        "outputId": "108a5315-25c3-46e7-a825-6b9205cf91f8"
      },
      "source": [
        "#extract a column\n",
        "Instruments_df$high_freq_Hz"
      ],
      "execution_count": null,
      "outputs": [
        {
          "output_type": "display_data",
          "data": {
            "text/plain": [
              "[1]  1200 17000 10000 18000"
            ],
            "text/latex": "\\begin{enumerate*}\n\\item 1200\n\\item 17000\n\\item 10000\n\\item 18000\n\\end{enumerate*}\n",
            "text/markdown": "1. 1200\n2. 17000\n3. 10000\n4. 18000\n\n\n",
            "text/html": [
              "<style>\n",
              ".list-inline {list-style: none; margin:0; padding: 0}\n",
              ".list-inline>li {display: inline-block}\n",
              ".list-inline>li:not(:last-child)::after {content: \"\\00b7\"; padding: 0 .5ex}\n",
              "</style>\n",
              "<ol class=list-inline><li>1200</li><li>17000</li><li>10000</li><li>18000</li></ol>\n"
            ]
          },
          "metadata": {}
        }
      ]
    },
    {
      "cell_type": "code",
      "metadata": {
        "colab": {
          "base_uri": "https://localhost:8080/",
          "height": 34
        },
        "id": "p5P40aZNPiXF",
        "outputId": "5e013b16-db29-40bc-bfcd-4cf5ddb0497d"
      },
      "source": [
        "names(Instruments_df)"
      ],
      "execution_count": null,
      "outputs": [
        {
          "output_type": "display_data",
          "data": {
            "text/plain": [
              "[1] \"Instrument\"     \"Type\"           \"high_freq_Hz\"   \"low_freq_Hz\"   \n",
              "[5] \"origin_country\""
            ],
            "text/latex": "\\begin{enumerate*}\n\\item 'Instrument'\n\\item 'Type'\n\\item 'high\\_freq\\_Hz'\n\\item 'low\\_freq\\_Hz'\n\\item 'origin\\_country'\n\\end{enumerate*}\n",
            "text/markdown": "1. 'Instrument'\n2. 'Type'\n3. 'high_freq_Hz'\n4. 'low_freq_Hz'\n5. 'origin_country'\n\n\n",
            "text/html": [
              "<style>\n",
              ".list-inline {list-style: none; margin:0; padding: 0}\n",
              ".list-inline>li {display: inline-block}\n",
              ".list-inline>li:not(:last-child)::after {content: \"\\00b7\"; padding: 0 .5ex}\n",
              "</style>\n",
              "<ol class=list-inline><li>'Instrument'</li><li>'Type'</li><li>'high_freq_Hz'</li><li>'low_freq_Hz'</li><li>'origin_country'</li></ol>\n"
            ]
          },
          "metadata": {}
        }
      ]
    },
    {
      "cell_type": "code",
      "metadata": {
        "colab": {
          "base_uri": "https://localhost:8080/",
          "height": 34
        },
        "id": "-LYYRAS2RGjC",
        "outputId": "b04483f7-67f4-410d-e0c2-cc8a9e933f8c"
      },
      "source": [
        "dim(Instruments_df)"
      ],
      "execution_count": null,
      "outputs": [
        {
          "output_type": "display_data",
          "data": {
            "text/plain": [
              "[1] 4 5"
            ],
            "text/latex": "\\begin{enumerate*}\n\\item 4\n\\item 5\n\\end{enumerate*}\n",
            "text/markdown": "1. 4\n2. 5\n\n\n",
            "text/html": [
              "<style>\n",
              ".list-inline {list-style: none; margin:0; padding: 0}\n",
              ".list-inline>li {display: inline-block}\n",
              ".list-inline>li:not(:last-child)::after {content: \"\\00b7\"; padding: 0 .5ex}\n",
              "</style>\n",
              "<ol class=list-inline><li>4</li><li>5</li></ol>\n"
            ]
          },
          "metadata": {}
        }
      ]
    },
    {
      "cell_type": "code",
      "metadata": {
        "colab": {
          "base_uri": "https://localhost:8080/"
        },
        "id": "TQyQD_boRLbW",
        "outputId": "c5dbd201-49f5-45a5-81db-30906097e63b"
      },
      "source": [
        "str(Instruments_df)"
      ],
      "execution_count": null,
      "outputs": [
        {
          "output_type": "stream",
          "name": "stdout",
          "text": [
            "'data.frame':\t4 obs. of  5 variables:\n",
            " $ Instrument    : chr  \"Guitar\" \"Violin\" \"Harmonica\" \"Bongo\"\n",
            " $ Type          : Factor w/ 3 levels \"percussion\",\"string\",..: 2 2 3 1\n",
            " $ high_freq_Hz  : num  1200 17000 10000 18000\n",
            " $ low_freq_Hz   : num  80 190 300 200\n",
            " $ origin_country: chr  \"Spain\" \"Italy\" \"Germany\" \"Cuba\"\n"
          ]
        }
      ]
    },
    {
      "cell_type": "markdown",
      "metadata": {
        "id": "TSvIGP8sRyUW"
      },
      "source": [
        "## Loops in R\n",
        "\n",
        "For loop: \n",
        "- Takes vector of values as an input\n",
        "- Generally, increment is not required\n",
        "- Cannot be executed using binary coditions\n"
      ]
    },
    {
      "cell_type": "code",
      "metadata": {
        "colab": {
          "base_uri": "https://localhost:8080/"
        },
        "id": "xBYlXiYLRzwe",
        "outputId": "278b5d2a-8cc3-41b9-8112-545550f8ff18"
      },
      "source": [
        "for (i in 1:10){\n",
        "  print(i)\n",
        "}"
      ],
      "execution_count": null,
      "outputs": [
        {
          "output_type": "stream",
          "name": "stdout",
          "text": [
            "[1] 1\n",
            "[1] 2\n",
            "[1] 3\n",
            "[1] 4\n",
            "[1] 5\n",
            "[1] 6\n",
            "[1] 7\n",
            "[1] 8\n",
            "[1] 9\n",
            "[1] 10\n"
          ]
        }
      ]
    },
    {
      "cell_type": "code",
      "metadata": {
        "colab": {
          "base_uri": "https://localhost:8080/"
        },
        "id": "yRdtrdU5R48J",
        "outputId": "3da1cf2e-3fa2-41de-c5d9-6121d7bc7b54"
      },
      "source": [
        "count = 0\n",
        "for (i in 1:15){\n",
        "  if (i < 7){\n",
        "    count=count+1\n",
        "  }\n",
        "}\n",
        "print(count)"
      ],
      "execution_count": null,
      "outputs": [
        {
          "output_type": "stream",
          "name": "stdout",
          "text": [
            "[1] 6\n"
          ]
        }
      ]
    },
    {
      "cell_type": "markdown",
      "metadata": {
        "id": "LNtowDigUgu5"
      },
      "source": [
        "While Loop:         \n",
        "- Runs until the condition is true\n",
        "- Usually need to use an increment\n",
        "\n",
        "`while{true}{do this}`"
      ]
    },
    {
      "cell_type": "code",
      "metadata": {
        "colab": {
          "base_uri": "https://localhost:8080/"
        },
        "id": "YVEL-nQSWOUa",
        "outputId": "f26ade9f-5c65-4070-ef18-4ba6aca7387a"
      },
      "source": [
        "i = 1\n",
        "while(i<=10){\n",
        "  print(i)\n",
        "  i = i+ 1\n",
        "}"
      ],
      "execution_count": null,
      "outputs": [
        {
          "output_type": "stream",
          "name": "stdout",
          "text": [
            "[1] 1\n",
            "[1] 2\n",
            "[1] 3\n",
            "[1] 4\n",
            "[1] 5\n",
            "[1] 6\n",
            "[1] 7\n",
            "[1] 8\n",
            "[1] 9\n",
            "[1] 10\n"
          ]
        }
      ]
    },
    {
      "cell_type": "markdown",
      "metadata": {
        "id": "pEMn65oebNBZ"
      },
      "source": [
        "## Logic control\n",
        "**if**  \n",
        "`if (condition is true) {action}`  \n",
        "\n",
        "**if…else**  \n",
        "`if (condition is true)`     \n",
        "`{action1}else{action2}`\n",
        "\n",
        "**if...else if...else**  \n",
        "`if (condition is true) {action1}else`   \n",
        "`if(condition is true)`  \n",
        "`{action2}else{action3}`"
      ]
    },
    {
      "cell_type": "code",
      "metadata": {
        "colab": {
          "base_uri": "https://localhost:8080/"
        },
        "id": "1Z33tNz9bPJz",
        "outputId": "dae814ae-b6de-401f-e3df-55ad8c42bc21"
      },
      "source": [
        "grade=93\n",
        "\n",
        "# if\n",
        "if (grade > 90){\n",
        "  print(\"A\")\n",
        "}"
      ],
      "execution_count": null,
      "outputs": [
        {
          "output_type": "stream",
          "name": "stdout",
          "text": [
            "[1] \"A\"\n"
          ]
        }
      ]
    },
    {
      "cell_type": "code",
      "metadata": {
        "colab": {
          "base_uri": "https://localhost:8080/"
        },
        "id": "hsT-Xz2NoJSV",
        "outputId": "f2f549e8-a5bb-46c8-84d0-14eec6b51a03"
      },
      "source": [
        "# if ... else\n",
        "if (grade >= 60){\n",
        "  print(\"Pass\")\n",
        "}else {\n",
        "  print(\"Fail\")\n",
        "}"
      ],
      "execution_count": null,
      "outputs": [
        {
          "output_type": "stream",
          "name": "stdout",
          "text": [
            "[1] \"Pass\"\n"
          ]
        }
      ]
    },
    {
      "cell_type": "code",
      "metadata": {
        "colab": {
          "base_uri": "https://localhost:8080/"
        },
        "id": "3mkJqdFWoKZF",
        "outputId": "ae6e6e31-6467-4236-aec8-34b0293b20b5"
      },
      "source": [
        "# if ... else if ... else\n",
        "\n",
        "grade = 65\n",
        "  \n",
        "if (grade >= 60){\n",
        "    if (grade >= 90){\n",
        "       print (\"Grade is A\")\n",
        "    } else if (grade >= 80){\n",
        "      print(\"Grade is B\")\n",
        "    }else if (grade >= 70){\n",
        "      print(\"Grade is C\")\n",
        "    }\n",
        "    else{\n",
        "      print(\"Grade is D\")\n",
        "    }\n",
        "} else{\n",
        "    print(\"Grade is E\")\n",
        "}"
      ],
      "execution_count": null,
      "outputs": [
        {
          "output_type": "stream",
          "name": "stdout",
          "text": [
            "[1] \"Grade is D\"\n"
          ]
        }
      ]
    },
    {
      "cell_type": "markdown",
      "metadata": {
        "id": "x94RKAjloPjP"
      },
      "source": [
        "## Functions in R\n",
        "Functions gather a sequence of operations into a whole, preserving it for ongoing use. Functions provide:\n",
        "\n",
        "- a name we can remember and invoke it by\n",
        "- relief from the need to remember the individual operations\n",
        "- a defined set of inputs and expected outputs\n",
        "- rich connections to the larger programming environment  \n",
        "\n",
        "In R, we define a function using `function`"
      ]
    },
    {
      "cell_type": "code",
      "metadata": {
        "id": "feNg9Kg8oUgk"
      },
      "source": [
        "# define a function to output the grade based in the score provided\n",
        "\n",
        "score_to_grade = function(score){\n",
        "   grade = \"\"\n",
        "   if (score >= 60){\n",
        "      if (score >= 90){\n",
        "         grade = \"A\"\n",
        "      } else if (score>=80){\n",
        "        grade = \"B\"\n",
        "      }else if (score >= 70){\n",
        "        grade = \"C\"\n",
        "      }\n",
        "      else{\n",
        "        grade=\"D\"\n",
        "      }\n",
        "  } else{\n",
        "      grade = \"E\"\n",
        "  }\n",
        "  return(grade)\n",
        "}"
      ],
      "execution_count": null,
      "outputs": []
    },
    {
      "cell_type": "code",
      "metadata": {
        "colab": {
          "base_uri": "https://localhost:8080/"
        },
        "id": "Aw5aoOfArKyi",
        "outputId": "c79a199d-5d17-4291-9f71-d5278d4e1875"
      },
      "source": [
        "print(score_to_grade(70))"
      ],
      "execution_count": null,
      "outputs": [
        {
          "output_type": "stream",
          "name": "stdout",
          "text": [
            "[1] \"C\"\n"
          ]
        }
      ]
    },
    {
      "cell_type": "code",
      "metadata": {
        "colab": {
          "base_uri": "https://localhost:8080/"
        },
        "id": "VOxkCkO5rMh2",
        "outputId": "06df06f1-5f1b-49f7-a36d-b70538d257e1"
      },
      "source": [
        "print(score_to_grade(89))"
      ],
      "execution_count": null,
      "outputs": [
        {
          "output_type": "stream",
          "name": "stdout",
          "text": [
            "[1] \"B\"\n"
          ]
        }
      ]
    },
    {
      "cell_type": "code",
      "metadata": {
        "colab": {
          "base_uri": "https://localhost:8080/"
        },
        "id": "oa0VFDnhspxq",
        "outputId": "68428a92-0133-499c-e6f4-b42d37f27d9e"
      },
      "source": [
        "print(score_to_grade(55))"
      ],
      "execution_count": null,
      "outputs": [
        {
          "output_type": "stream",
          "name": "stdout",
          "text": [
            "[1] \"E\"\n"
          ]
        }
      ]
    },
    {
      "cell_type": "markdown",
      "metadata": {
        "id": "1avMkvbJuF8m"
      },
      "source": [
        "## Visualization\n",
        "\n",
        "There are three main plotting systems in R, the base plotting system, the lattice package, and the ggplot2 package.  \n",
        "\n",
        "Today we’ll be learning about the ggplot2 package, because it is the most effective for creating publication quality graphics.  \n",
        "\n",
        "ggplot2 is built on the grammar of graphics, the idea that any plot can be expressed from the same set of components: a data set, a coordinate system, and a set of geoms–the visual representation of data points.  \n",
        "\n",
        "The key to understanding ggplot2 is thinking about a figure in layers. This idea may be familiar to you if you have used image editing programs like Photoshop, Illustrator, or Inkscape."
      ]
    },
    {
      "cell_type": "markdown",
      "metadata": {
        "id": "aoUCngsWus3n"
      },
      "source": [
        "## Install packages"
      ]
    },
    {
      "cell_type": "code",
      "metadata": {
        "colab": {
          "base_uri": "https://localhost:8080/"
        },
        "id": "LFte1yPIulst",
        "outputId": "3cc82319-4e18-48e0-c59a-09d74dfc9708"
      },
      "source": [
        "if(\"ggplot2\" %in% rownames(installed.packages()) == FALSE){install.packages(\"ggplot2\")}\n",
        "if(\"gapminder\" %in% rownames(installed.packages()) == FALSE){install.packages(\"gapminder\")}"
      ],
      "execution_count": null,
      "outputs": [
        {
          "output_type": "stream",
          "name": "stderr",
          "text": [
            "Installing package into ‘/usr/local/lib/R/site-library’\n",
            "(as ‘lib’ is unspecified)\n",
            "\n"
          ]
        }
      ]
    },
    {
      "cell_type": "markdown",
      "metadata": {
        "id": "Ms6Pv5usu4TB"
      },
      "source": [
        "## Load the packages"
      ]
    },
    {
      "cell_type": "code",
      "metadata": {
        "colab": {
          "base_uri": "https://localhost:8080/"
        },
        "id": "3-6fiooTuzfK",
        "outputId": "ef75113e-20bd-43e2-f19e-c8400fcf8e73"
      },
      "source": [
        "library(ggplot2)\n",
        "library(gapminder)\n",
        "str(gapminder)"
      ],
      "execution_count": null,
      "outputs": [
        {
          "output_type": "stream",
          "name": "stdout",
          "text": [
            "tibble [1,704 × 6] (S3: tbl_df/tbl/data.frame)\n",
            " $ country  : Factor w/ 142 levels \"Afghanistan\",..: 1 1 1 1 1 1 1 1 1 1 ...\n",
            " $ continent: Factor w/ 5 levels \"Africa\",\"Americas\",..: 3 3 3 3 3 3 3 3 3 3 ...\n",
            " $ year     : int [1:1704] 1952 1957 1962 1967 1972 1977 1982 1987 1992 1997 ...\n",
            " $ lifeExp  : num [1:1704] 28.8 30.3 32 34 36.1 ...\n",
            " $ pop      : int [1:1704] 8425333 9240934 10267083 11537966 13079460 14880372 12881816 13867957 16317921 22227415 ...\n",
            " $ gdpPercap: num [1:1704] 779 821 853 836 740 ...\n"
          ]
        }
      ]
    },
    {
      "cell_type": "code",
      "metadata": {
        "colab": {
          "base_uri": "https://localhost:8080/",
          "height": 285
        },
        "id": "dyIfDCoYu9Oa",
        "outputId": "67a719d5-40d5-4601-d74b-acc43858e249"
      },
      "source": [
        "head(gapminder)"
      ],
      "execution_count": null,
      "outputs": [
        {
          "output_type": "display_data",
          "data": {
            "text/plain": [
              "  country     continent year lifeExp pop      gdpPercap\n",
              "1 Afghanistan Asia      1952 28.801   8425333 779.4453 \n",
              "2 Afghanistan Asia      1957 30.332   9240934 820.8530 \n",
              "3 Afghanistan Asia      1962 31.997  10267083 853.1007 \n",
              "4 Afghanistan Asia      1967 34.020  11537966 836.1971 \n",
              "5 Afghanistan Asia      1972 36.088  13079460 739.9811 \n",
              "6 Afghanistan Asia      1977 38.438  14880372 786.1134 "
            ],
            "text/latex": "A tibble: 6 × 6\n\\begin{tabular}{llllll}\n country & continent & year & lifeExp & pop & gdpPercap\\\\\n <fct> & <fct> & <int> & <dbl> & <int> & <dbl>\\\\\n\\hline\n\t Afghanistan & Asia & 1952 & 28.801 &  8425333 & 779.4453\\\\\n\t Afghanistan & Asia & 1957 & 30.332 &  9240934 & 820.8530\\\\\n\t Afghanistan & Asia & 1962 & 31.997 & 10267083 & 853.1007\\\\\n\t Afghanistan & Asia & 1967 & 34.020 & 11537966 & 836.1971\\\\\n\t Afghanistan & Asia & 1972 & 36.088 & 13079460 & 739.9811\\\\\n\t Afghanistan & Asia & 1977 & 38.438 & 14880372 & 786.1134\\\\\n\\end{tabular}\n",
            "text/markdown": "\nA tibble: 6 × 6\n\n| country &lt;fct&gt; | continent &lt;fct&gt; | year &lt;int&gt; | lifeExp &lt;dbl&gt; | pop &lt;int&gt; | gdpPercap &lt;dbl&gt; |\n|---|---|---|---|---|---|\n| Afghanistan | Asia | 1952 | 28.801 |  8425333 | 779.4453 |\n| Afghanistan | Asia | 1957 | 30.332 |  9240934 | 820.8530 |\n| Afghanistan | Asia | 1962 | 31.997 | 10267083 | 853.1007 |\n| Afghanistan | Asia | 1967 | 34.020 | 11537966 | 836.1971 |\n| Afghanistan | Asia | 1972 | 36.088 | 13079460 | 739.9811 |\n| Afghanistan | Asia | 1977 | 38.438 | 14880372 | 786.1134 |\n\n",
            "text/html": [
              "<table class=\"dataframe\">\n",
              "<caption>A tibble: 6 × 6</caption>\n",
              "<thead>\n",
              "\t<tr><th scope=col>country</th><th scope=col>continent</th><th scope=col>year</th><th scope=col>lifeExp</th><th scope=col>pop</th><th scope=col>gdpPercap</th></tr>\n",
              "\t<tr><th scope=col>&lt;fct&gt;</th><th scope=col>&lt;fct&gt;</th><th scope=col>&lt;int&gt;</th><th scope=col>&lt;dbl&gt;</th><th scope=col>&lt;int&gt;</th><th scope=col>&lt;dbl&gt;</th></tr>\n",
              "</thead>\n",
              "<tbody>\n",
              "\t<tr><td>Afghanistan</td><td>Asia</td><td>1952</td><td>28.801</td><td> 8425333</td><td>779.4453</td></tr>\n",
              "\t<tr><td>Afghanistan</td><td>Asia</td><td>1957</td><td>30.332</td><td> 9240934</td><td>820.8530</td></tr>\n",
              "\t<tr><td>Afghanistan</td><td>Asia</td><td>1962</td><td>31.997</td><td>10267083</td><td>853.1007</td></tr>\n",
              "\t<tr><td>Afghanistan</td><td>Asia</td><td>1967</td><td>34.020</td><td>11537966</td><td>836.1971</td></tr>\n",
              "\t<tr><td>Afghanistan</td><td>Asia</td><td>1972</td><td>36.088</td><td>13079460</td><td>739.9811</td></tr>\n",
              "\t<tr><td>Afghanistan</td><td>Asia</td><td>1977</td><td>38.438</td><td>14880372</td><td>786.1134</td></tr>\n",
              "</tbody>\n",
              "</table>\n"
            ]
          },
          "metadata": {}
        }
      ]
    },
    {
      "cell_type": "code",
      "metadata": {
        "id": "lmk5vBInvG6N"
      },
      "source": [
        ""
      ],
      "execution_count": null,
      "outputs": []
    }
  ]
}